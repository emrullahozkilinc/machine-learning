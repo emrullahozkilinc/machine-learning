{
  "nbformat": 4,
  "nbformat_minor": 0,
  "metadata": {
    "colab": {
      "name": "svm_statquest.ipynb",
      "provenance": [],
      "collapsed_sections": [],
      "history_visible": true,
      "authorship_tag": "ABX9TyPMO4KBqox5pNCway14BaEa",
      "include_colab_link": true
    },
    "kernelspec": {
      "name": "python3",
      "display_name": "Python 3"
    },
    "language_info": {
      "name": "python"
    }
  },
  "cells": [
    {
      "cell_type": "markdown",
      "metadata": {
        "id": "view-in-github",
        "colab_type": "text"
      },
      "source": [
        "<a href=\"https://colab.research.google.com/github/emrullahozkilinc/machine-learning/blob/master/svm_statquest.ipynb\" target=\"_parent\"><img src=\"https://colab.research.google.com/assets/colab-badge.svg\" alt=\"Open In Colab\"/></a>"
      ]
    },
    {
      "cell_type": "code",
      "metadata": {
        "id": "-Fw4eclzWW96"
      },
      "source": [
        "import pandas as pd\n",
        "import numpy as np\n",
        "import matplotlib.pyplot as plt\n",
        "import matplotlib.colors as clr\n",
        "from sklearn.utils import resample\n",
        "from sklearn.model_selection import train_test_split\n",
        "from sklearn.preprocessing import scale\n",
        "from sklearn.svm import SVC\n",
        "from sklearn.model_selection import GridSearchCV\n",
        "from sklearn.metrics import confusion_matrix, plot_confusion_matrix\n",
        "from sklearn.decomposition import PCA"
      ],
      "execution_count": 49,
      "outputs": []
    },
    {
      "cell_type": "code",
      "metadata": {
        "id": "LE6oMgasXDAc"
      },
      "source": [
        "#Veri setinin eklenmesi\n",
        "url=\"https://raw.githubusercontent.com/emrullahozkilinc/machine-learning/master/dataset/default%20of%20credit%20card%20clients.xls\"\n",
        "df = pd.read_excel(url, header=1)"
      ],
      "execution_count": 50,
      "outputs": []
    },
    {
      "cell_type": "markdown",
      "metadata": {
        "id": "Vhn6EnMOdZmm"
      },
      "source": [
        "Veri seti hakkında bilgi için:\n",
        "https://archive.ics.uci.edu/ml/datasets/default+of+credit+card+clients"
      ]
    },
    {
      "cell_type": "code",
      "metadata": {
        "id": "cmQIY91pXKr9",
        "colab": {
          "base_uri": "https://localhost:8080/",
          "height": 275
        },
        "outputId": "a0fa8887-6107-45d5-a5a3-5e23fa5eb156"
      },
      "source": [
        "df.head()"
      ],
      "execution_count": 51,
      "outputs": [
        {
          "output_type": "execute_result",
          "data": {
            "text/html": [
              "<div>\n",
              "<style scoped>\n",
              "    .dataframe tbody tr th:only-of-type {\n",
              "        vertical-align: middle;\n",
              "    }\n",
              "\n",
              "    .dataframe tbody tr th {\n",
              "        vertical-align: top;\n",
              "    }\n",
              "\n",
              "    .dataframe thead th {\n",
              "        text-align: right;\n",
              "    }\n",
              "</style>\n",
              "<table border=\"1\" class=\"dataframe\">\n",
              "  <thead>\n",
              "    <tr style=\"text-align: right;\">\n",
              "      <th></th>\n",
              "      <th>ID</th>\n",
              "      <th>LIMIT_BAL</th>\n",
              "      <th>SEX</th>\n",
              "      <th>EDUCATION</th>\n",
              "      <th>MARRIAGE</th>\n",
              "      <th>AGE</th>\n",
              "      <th>PAY_0</th>\n",
              "      <th>PAY_2</th>\n",
              "      <th>PAY_3</th>\n",
              "      <th>PAY_4</th>\n",
              "      <th>PAY_5</th>\n",
              "      <th>PAY_6</th>\n",
              "      <th>BILL_AMT1</th>\n",
              "      <th>BILL_AMT2</th>\n",
              "      <th>BILL_AMT3</th>\n",
              "      <th>BILL_AMT4</th>\n",
              "      <th>BILL_AMT5</th>\n",
              "      <th>BILL_AMT6</th>\n",
              "      <th>PAY_AMT1</th>\n",
              "      <th>PAY_AMT2</th>\n",
              "      <th>PAY_AMT3</th>\n",
              "      <th>PAY_AMT4</th>\n",
              "      <th>PAY_AMT5</th>\n",
              "      <th>PAY_AMT6</th>\n",
              "      <th>default payment next month</th>\n",
              "    </tr>\n",
              "  </thead>\n",
              "  <tbody>\n",
              "    <tr>\n",
              "      <th>0</th>\n",
              "      <td>1</td>\n",
              "      <td>20000</td>\n",
              "      <td>2</td>\n",
              "      <td>2</td>\n",
              "      <td>1</td>\n",
              "      <td>24</td>\n",
              "      <td>2</td>\n",
              "      <td>2</td>\n",
              "      <td>-1</td>\n",
              "      <td>-1</td>\n",
              "      <td>-2</td>\n",
              "      <td>-2</td>\n",
              "      <td>3913</td>\n",
              "      <td>3102</td>\n",
              "      <td>689</td>\n",
              "      <td>0</td>\n",
              "      <td>0</td>\n",
              "      <td>0</td>\n",
              "      <td>0</td>\n",
              "      <td>689</td>\n",
              "      <td>0</td>\n",
              "      <td>0</td>\n",
              "      <td>0</td>\n",
              "      <td>0</td>\n",
              "      <td>1</td>\n",
              "    </tr>\n",
              "    <tr>\n",
              "      <th>1</th>\n",
              "      <td>2</td>\n",
              "      <td>120000</td>\n",
              "      <td>2</td>\n",
              "      <td>2</td>\n",
              "      <td>2</td>\n",
              "      <td>26</td>\n",
              "      <td>-1</td>\n",
              "      <td>2</td>\n",
              "      <td>0</td>\n",
              "      <td>0</td>\n",
              "      <td>0</td>\n",
              "      <td>2</td>\n",
              "      <td>2682</td>\n",
              "      <td>1725</td>\n",
              "      <td>2682</td>\n",
              "      <td>3272</td>\n",
              "      <td>3455</td>\n",
              "      <td>3261</td>\n",
              "      <td>0</td>\n",
              "      <td>1000</td>\n",
              "      <td>1000</td>\n",
              "      <td>1000</td>\n",
              "      <td>0</td>\n",
              "      <td>2000</td>\n",
              "      <td>1</td>\n",
              "    </tr>\n",
              "    <tr>\n",
              "      <th>2</th>\n",
              "      <td>3</td>\n",
              "      <td>90000</td>\n",
              "      <td>2</td>\n",
              "      <td>2</td>\n",
              "      <td>2</td>\n",
              "      <td>34</td>\n",
              "      <td>0</td>\n",
              "      <td>0</td>\n",
              "      <td>0</td>\n",
              "      <td>0</td>\n",
              "      <td>0</td>\n",
              "      <td>0</td>\n",
              "      <td>29239</td>\n",
              "      <td>14027</td>\n",
              "      <td>13559</td>\n",
              "      <td>14331</td>\n",
              "      <td>14948</td>\n",
              "      <td>15549</td>\n",
              "      <td>1518</td>\n",
              "      <td>1500</td>\n",
              "      <td>1000</td>\n",
              "      <td>1000</td>\n",
              "      <td>1000</td>\n",
              "      <td>5000</td>\n",
              "      <td>0</td>\n",
              "    </tr>\n",
              "    <tr>\n",
              "      <th>3</th>\n",
              "      <td>4</td>\n",
              "      <td>50000</td>\n",
              "      <td>2</td>\n",
              "      <td>2</td>\n",
              "      <td>1</td>\n",
              "      <td>37</td>\n",
              "      <td>0</td>\n",
              "      <td>0</td>\n",
              "      <td>0</td>\n",
              "      <td>0</td>\n",
              "      <td>0</td>\n",
              "      <td>0</td>\n",
              "      <td>46990</td>\n",
              "      <td>48233</td>\n",
              "      <td>49291</td>\n",
              "      <td>28314</td>\n",
              "      <td>28959</td>\n",
              "      <td>29547</td>\n",
              "      <td>2000</td>\n",
              "      <td>2019</td>\n",
              "      <td>1200</td>\n",
              "      <td>1100</td>\n",
              "      <td>1069</td>\n",
              "      <td>1000</td>\n",
              "      <td>0</td>\n",
              "    </tr>\n",
              "    <tr>\n",
              "      <th>4</th>\n",
              "      <td>5</td>\n",
              "      <td>50000</td>\n",
              "      <td>1</td>\n",
              "      <td>2</td>\n",
              "      <td>1</td>\n",
              "      <td>57</td>\n",
              "      <td>-1</td>\n",
              "      <td>0</td>\n",
              "      <td>-1</td>\n",
              "      <td>0</td>\n",
              "      <td>0</td>\n",
              "      <td>0</td>\n",
              "      <td>8617</td>\n",
              "      <td>5670</td>\n",
              "      <td>35835</td>\n",
              "      <td>20940</td>\n",
              "      <td>19146</td>\n",
              "      <td>19131</td>\n",
              "      <td>2000</td>\n",
              "      <td>36681</td>\n",
              "      <td>10000</td>\n",
              "      <td>9000</td>\n",
              "      <td>689</td>\n",
              "      <td>679</td>\n",
              "      <td>0</td>\n",
              "    </tr>\n",
              "  </tbody>\n",
              "</table>\n",
              "</div>"
            ],
            "text/plain": [
              "   ID  LIMIT_BAL  SEX  ...  PAY_AMT5  PAY_AMT6  default payment next month\n",
              "0   1      20000    2  ...         0         0                           1\n",
              "1   2     120000    2  ...         0      2000                           1\n",
              "2   3      90000    2  ...      1000      5000                           0\n",
              "3   4      50000    2  ...      1069      1000                           0\n",
              "4   5      50000    1  ...       689       679                           0\n",
              "\n",
              "[5 rows x 25 columns]"
            ]
          },
          "metadata": {
            "tags": []
          },
          "execution_count": 51
        }
      ]
    },
    {
      "cell_type": "code",
      "metadata": {
        "id": "_u0KmRaYXnwt",
        "colab": {
          "base_uri": "https://localhost:8080/"
        },
        "outputId": "c7632e3a-03b7-467c-d201-f0071bbe6210"
      },
      "source": [
        "df.columns"
      ],
      "execution_count": 52,
      "outputs": [
        {
          "output_type": "execute_result",
          "data": {
            "text/plain": [
              "Index(['ID', 'LIMIT_BAL', 'SEX', 'EDUCATION', 'MARRIAGE', 'AGE', 'PAY_0',\n",
              "       'PAY_2', 'PAY_3', 'PAY_4', 'PAY_5', 'PAY_6', 'BILL_AMT1', 'BILL_AMT2',\n",
              "       'BILL_AMT3', 'BILL_AMT4', 'BILL_AMT5', 'BILL_AMT6', 'PAY_AMT1',\n",
              "       'PAY_AMT2', 'PAY_AMT3', 'PAY_AMT4', 'PAY_AMT5', 'PAY_AMT6',\n",
              "       'default payment next month'],\n",
              "      dtype='object')"
            ]
          },
          "metadata": {
            "tags": []
          },
          "execution_count": 52
        }
      ]
    },
    {
      "cell_type": "code",
      "metadata": {
        "id": "Sm8OPEJtYABj",
        "colab": {
          "base_uri": "https://localhost:8080/"
        },
        "outputId": "a97f269a-d3f9-4450-eac9-1ca2be6d327e"
      },
      "source": [
        "df['PAY_0'].unique()"
      ],
      "execution_count": 53,
      "outputs": [
        {
          "output_type": "execute_result",
          "data": {
            "text/plain": [
              "array([ 2, -1,  0, -2,  1,  3,  4,  8,  7,  5,  6])"
            ]
          },
          "metadata": {
            "tags": []
          },
          "execution_count": 53
        }
      ]
    },
    {
      "cell_type": "code",
      "metadata": {
        "id": "5T0XpuASYay6"
      },
      "source": [
        "#Hedef kolon ismi uzun olduğundan ismini DEFAULT olarak değiştirilmesi.\n",
        "df.rename({'default payment next month' : 'DEFAULT'}, axis=\"columns\", inplace=True)"
      ],
      "execution_count": 54,
      "outputs": []
    },
    {
      "cell_type": "code",
      "metadata": {
        "colab": {
          "base_uri": "https://localhost:8080/",
          "height": 224
        },
        "id": "WCPYJb89ZxcT",
        "outputId": "0ab7e237-37ed-4a2e-b188-d08dd2b17d99"
      },
      "source": [
        "#ID kolonunun işe yaramadığı için silinmesi.\n",
        "df.drop(\"ID\", axis='columns', inplace=True)\n",
        "df.head()"
      ],
      "execution_count": 55,
      "outputs": [
        {
          "output_type": "execute_result",
          "data": {
            "text/html": [
              "<div>\n",
              "<style scoped>\n",
              "    .dataframe tbody tr th:only-of-type {\n",
              "        vertical-align: middle;\n",
              "    }\n",
              "\n",
              "    .dataframe tbody tr th {\n",
              "        vertical-align: top;\n",
              "    }\n",
              "\n",
              "    .dataframe thead th {\n",
              "        text-align: right;\n",
              "    }\n",
              "</style>\n",
              "<table border=\"1\" class=\"dataframe\">\n",
              "  <thead>\n",
              "    <tr style=\"text-align: right;\">\n",
              "      <th></th>\n",
              "      <th>LIMIT_BAL</th>\n",
              "      <th>SEX</th>\n",
              "      <th>EDUCATION</th>\n",
              "      <th>MARRIAGE</th>\n",
              "      <th>AGE</th>\n",
              "      <th>PAY_0</th>\n",
              "      <th>PAY_2</th>\n",
              "      <th>PAY_3</th>\n",
              "      <th>PAY_4</th>\n",
              "      <th>PAY_5</th>\n",
              "      <th>PAY_6</th>\n",
              "      <th>BILL_AMT1</th>\n",
              "      <th>BILL_AMT2</th>\n",
              "      <th>BILL_AMT3</th>\n",
              "      <th>BILL_AMT4</th>\n",
              "      <th>BILL_AMT5</th>\n",
              "      <th>BILL_AMT6</th>\n",
              "      <th>PAY_AMT1</th>\n",
              "      <th>PAY_AMT2</th>\n",
              "      <th>PAY_AMT3</th>\n",
              "      <th>PAY_AMT4</th>\n",
              "      <th>PAY_AMT5</th>\n",
              "      <th>PAY_AMT6</th>\n",
              "      <th>DEFAULT</th>\n",
              "    </tr>\n",
              "  </thead>\n",
              "  <tbody>\n",
              "    <tr>\n",
              "      <th>0</th>\n",
              "      <td>20000</td>\n",
              "      <td>2</td>\n",
              "      <td>2</td>\n",
              "      <td>1</td>\n",
              "      <td>24</td>\n",
              "      <td>2</td>\n",
              "      <td>2</td>\n",
              "      <td>-1</td>\n",
              "      <td>-1</td>\n",
              "      <td>-2</td>\n",
              "      <td>-2</td>\n",
              "      <td>3913</td>\n",
              "      <td>3102</td>\n",
              "      <td>689</td>\n",
              "      <td>0</td>\n",
              "      <td>0</td>\n",
              "      <td>0</td>\n",
              "      <td>0</td>\n",
              "      <td>689</td>\n",
              "      <td>0</td>\n",
              "      <td>0</td>\n",
              "      <td>0</td>\n",
              "      <td>0</td>\n",
              "      <td>1</td>\n",
              "    </tr>\n",
              "    <tr>\n",
              "      <th>1</th>\n",
              "      <td>120000</td>\n",
              "      <td>2</td>\n",
              "      <td>2</td>\n",
              "      <td>2</td>\n",
              "      <td>26</td>\n",
              "      <td>-1</td>\n",
              "      <td>2</td>\n",
              "      <td>0</td>\n",
              "      <td>0</td>\n",
              "      <td>0</td>\n",
              "      <td>2</td>\n",
              "      <td>2682</td>\n",
              "      <td>1725</td>\n",
              "      <td>2682</td>\n",
              "      <td>3272</td>\n",
              "      <td>3455</td>\n",
              "      <td>3261</td>\n",
              "      <td>0</td>\n",
              "      <td>1000</td>\n",
              "      <td>1000</td>\n",
              "      <td>1000</td>\n",
              "      <td>0</td>\n",
              "      <td>2000</td>\n",
              "      <td>1</td>\n",
              "    </tr>\n",
              "    <tr>\n",
              "      <th>2</th>\n",
              "      <td>90000</td>\n",
              "      <td>2</td>\n",
              "      <td>2</td>\n",
              "      <td>2</td>\n",
              "      <td>34</td>\n",
              "      <td>0</td>\n",
              "      <td>0</td>\n",
              "      <td>0</td>\n",
              "      <td>0</td>\n",
              "      <td>0</td>\n",
              "      <td>0</td>\n",
              "      <td>29239</td>\n",
              "      <td>14027</td>\n",
              "      <td>13559</td>\n",
              "      <td>14331</td>\n",
              "      <td>14948</td>\n",
              "      <td>15549</td>\n",
              "      <td>1518</td>\n",
              "      <td>1500</td>\n",
              "      <td>1000</td>\n",
              "      <td>1000</td>\n",
              "      <td>1000</td>\n",
              "      <td>5000</td>\n",
              "      <td>0</td>\n",
              "    </tr>\n",
              "    <tr>\n",
              "      <th>3</th>\n",
              "      <td>50000</td>\n",
              "      <td>2</td>\n",
              "      <td>2</td>\n",
              "      <td>1</td>\n",
              "      <td>37</td>\n",
              "      <td>0</td>\n",
              "      <td>0</td>\n",
              "      <td>0</td>\n",
              "      <td>0</td>\n",
              "      <td>0</td>\n",
              "      <td>0</td>\n",
              "      <td>46990</td>\n",
              "      <td>48233</td>\n",
              "      <td>49291</td>\n",
              "      <td>28314</td>\n",
              "      <td>28959</td>\n",
              "      <td>29547</td>\n",
              "      <td>2000</td>\n",
              "      <td>2019</td>\n",
              "      <td>1200</td>\n",
              "      <td>1100</td>\n",
              "      <td>1069</td>\n",
              "      <td>1000</td>\n",
              "      <td>0</td>\n",
              "    </tr>\n",
              "    <tr>\n",
              "      <th>4</th>\n",
              "      <td>50000</td>\n",
              "      <td>1</td>\n",
              "      <td>2</td>\n",
              "      <td>1</td>\n",
              "      <td>57</td>\n",
              "      <td>-1</td>\n",
              "      <td>0</td>\n",
              "      <td>-1</td>\n",
              "      <td>0</td>\n",
              "      <td>0</td>\n",
              "      <td>0</td>\n",
              "      <td>8617</td>\n",
              "      <td>5670</td>\n",
              "      <td>35835</td>\n",
              "      <td>20940</td>\n",
              "      <td>19146</td>\n",
              "      <td>19131</td>\n",
              "      <td>2000</td>\n",
              "      <td>36681</td>\n",
              "      <td>10000</td>\n",
              "      <td>9000</td>\n",
              "      <td>689</td>\n",
              "      <td>679</td>\n",
              "      <td>0</td>\n",
              "    </tr>\n",
              "  </tbody>\n",
              "</table>\n",
              "</div>"
            ],
            "text/plain": [
              "   LIMIT_BAL  SEX  EDUCATION  MARRIAGE  ...  PAY_AMT4  PAY_AMT5  PAY_AMT6  DEFAULT\n",
              "0      20000    2          2         1  ...         0         0         0        1\n",
              "1     120000    2          2         2  ...      1000         0      2000        1\n",
              "2      90000    2          2         2  ...      1000      1000      5000        0\n",
              "3      50000    2          2         1  ...      1100      1069      1000        0\n",
              "4      50000    1          2         1  ...      9000       689       679        0\n",
              "\n",
              "[5 rows x 24 columns]"
            ]
          },
          "metadata": {
            "tags": []
          },
          "execution_count": 55
        }
      ]
    },
    {
      "cell_type": "code",
      "metadata": {
        "colab": {
          "base_uri": "https://localhost:8080/"
        },
        "id": "YxR7eeMGcvg_",
        "outputId": "bd838ac3-a8fa-435b-ff34-c2c105dbd049"
      },
      "source": [
        "#EDUCATION ve MARRIAGE kolonlarındaki missing valueların hesaplanması\n",
        "len(df.loc[(df['EDUCATION']==0) | (df['MARRIAGE']==0)])"
      ],
      "execution_count": 56,
      "outputs": [
        {
          "output_type": "execute_result",
          "data": {
            "text/plain": [
              "68"
            ]
          },
          "metadata": {
            "tags": []
          },
          "execution_count": 56
        }
      ]
    },
    {
      "cell_type": "code",
      "metadata": {
        "colab": {
          "base_uri": "https://localhost:8080/"
        },
        "id": "HRNLwpAlfQaW",
        "outputId": "864fa727-3b3b-4099-f8ee-798ca5ac3506"
      },
      "source": [
        "#İki kolondada missing value olmayan tüm satırların alınması.\n",
        "df_no_missing = df.loc[(df['EDUCATION']!=0) & (df['MARRIAGE']!=0)]\n",
        "len(df_no_missing)"
      ],
      "execution_count": 57,
      "outputs": [
        {
          "output_type": "execute_result",
          "data": {
            "text/plain": [
              "29932"
            ]
          },
          "metadata": {
            "tags": []
          },
          "execution_count": 57
        }
      ]
    },
    {
      "cell_type": "code",
      "metadata": {
        "colab": {
          "base_uri": "https://localhost:8080/"
        },
        "id": "VVuGXm3xl1nf",
        "outputId": "9845bf35-d7c4-4ee5-e62c-cb5ab4c7b44d"
      },
      "source": [
        "#Default=0 ve Default=1 olanların ayrılması.\n",
        "df_default = df_no_missing[df_no_missing['DEFAULT']==1]\n",
        "df_no_default = df_no_missing[df_no_missing['DEFAULT']==0]\n",
        "\n",
        "print(len(df_default))\n",
        "print(len(df_no_default))"
      ],
      "execution_count": 58,
      "outputs": [
        {
          "output_type": "stream",
          "text": [
            "6631\n",
            "23301\n"
          ],
          "name": "stdout"
        }
      ]
    },
    {
      "cell_type": "code",
      "metadata": {
        "colab": {
          "base_uri": "https://localhost:8080/"
        },
        "id": "rFjvK28OnQeJ",
        "outputId": "2590e5dd-cf49-49aa-b928-ec73e3cf708a"
      },
      "source": [
        "#Her biri için 1000'er rasgele örnek alınması\n",
        "df_default_resampled = resample(df_default, replace=False, n_samples=1000)\n",
        "df_no_default_resampled = resample(df_no_default, replace=False, n_samples=1000)\n",
        "\n",
        "print(len(df_default_resampled))\n",
        "print(len(df_no_default_resampled))"
      ],
      "execution_count": 59,
      "outputs": [
        {
          "output_type": "stream",
          "text": [
            "1000\n",
            "1000\n"
          ],
          "name": "stdout"
        }
      ]
    },
    {
      "cell_type": "code",
      "metadata": {
        "colab": {
          "base_uri": "https://localhost:8080/"
        },
        "id": "DVjqUj__oaXC",
        "outputId": "dcedd137-eb89-4a76-e4e2-da15b7f49432"
      },
      "source": [
        "#Alınan örneklerin tek bir dataframe'de birleştirilmesi\n",
        "df_resampled = pd.concat([df_default_resampled,df_no_default_resampled])\n",
        "len(df_resampled)"
      ],
      "execution_count": 60,
      "outputs": [
        {
          "output_type": "execute_result",
          "data": {
            "text/plain": [
              "2000"
            ]
          },
          "metadata": {
            "tags": []
          },
          "execution_count": 60
        }
      ]
    },
    {
      "cell_type": "code",
      "metadata": {
        "colab": {
          "base_uri": "https://localhost:8080/",
          "height": 224
        },
        "id": "y3Q18eCppKOk",
        "outputId": "55684c95-8add-44b2-a9ae-d42386115dd2"
      },
      "source": [
        "#test edilecek verilerden hedef kolonun silinmesi.\n",
        "X = df_resampled.drop(['DEFAULT'],axis='columns').copy()\n",
        "X.head()"
      ],
      "execution_count": 61,
      "outputs": [
        {
          "output_type": "execute_result",
          "data": {
            "text/html": [
              "<div>\n",
              "<style scoped>\n",
              "    .dataframe tbody tr th:only-of-type {\n",
              "        vertical-align: middle;\n",
              "    }\n",
              "\n",
              "    .dataframe tbody tr th {\n",
              "        vertical-align: top;\n",
              "    }\n",
              "\n",
              "    .dataframe thead th {\n",
              "        text-align: right;\n",
              "    }\n",
              "</style>\n",
              "<table border=\"1\" class=\"dataframe\">\n",
              "  <thead>\n",
              "    <tr style=\"text-align: right;\">\n",
              "      <th></th>\n",
              "      <th>LIMIT_BAL</th>\n",
              "      <th>SEX</th>\n",
              "      <th>EDUCATION</th>\n",
              "      <th>MARRIAGE</th>\n",
              "      <th>AGE</th>\n",
              "      <th>PAY_0</th>\n",
              "      <th>PAY_2</th>\n",
              "      <th>PAY_3</th>\n",
              "      <th>PAY_4</th>\n",
              "      <th>PAY_5</th>\n",
              "      <th>PAY_6</th>\n",
              "      <th>BILL_AMT1</th>\n",
              "      <th>BILL_AMT2</th>\n",
              "      <th>BILL_AMT3</th>\n",
              "      <th>BILL_AMT4</th>\n",
              "      <th>BILL_AMT5</th>\n",
              "      <th>BILL_AMT6</th>\n",
              "      <th>PAY_AMT1</th>\n",
              "      <th>PAY_AMT2</th>\n",
              "      <th>PAY_AMT3</th>\n",
              "      <th>PAY_AMT4</th>\n",
              "      <th>PAY_AMT5</th>\n",
              "      <th>PAY_AMT6</th>\n",
              "    </tr>\n",
              "  </thead>\n",
              "  <tbody>\n",
              "    <tr>\n",
              "      <th>10875</th>\n",
              "      <td>400000</td>\n",
              "      <td>1</td>\n",
              "      <td>1</td>\n",
              "      <td>1</td>\n",
              "      <td>40</td>\n",
              "      <td>-1</td>\n",
              "      <td>-1</td>\n",
              "      <td>-2</td>\n",
              "      <td>-1</td>\n",
              "      <td>-1</td>\n",
              "      <td>-2</td>\n",
              "      <td>4750</td>\n",
              "      <td>0</td>\n",
              "      <td>0</td>\n",
              "      <td>2827</td>\n",
              "      <td>0</td>\n",
              "      <td>0</td>\n",
              "      <td>0</td>\n",
              "      <td>0</td>\n",
              "      <td>2827</td>\n",
              "      <td>0</td>\n",
              "      <td>0</td>\n",
              "      <td>3347</td>\n",
              "    </tr>\n",
              "    <tr>\n",
              "      <th>7404</th>\n",
              "      <td>20000</td>\n",
              "      <td>2</td>\n",
              "      <td>1</td>\n",
              "      <td>1</td>\n",
              "      <td>34</td>\n",
              "      <td>0</td>\n",
              "      <td>0</td>\n",
              "      <td>0</td>\n",
              "      <td>0</td>\n",
              "      <td>0</td>\n",
              "      <td>0</td>\n",
              "      <td>14676</td>\n",
              "      <td>15721</td>\n",
              "      <td>19335</td>\n",
              "      <td>20029</td>\n",
              "      <td>20473</td>\n",
              "      <td>19860</td>\n",
              "      <td>1286</td>\n",
              "      <td>3900</td>\n",
              "      <td>1000</td>\n",
              "      <td>900</td>\n",
              "      <td>900</td>\n",
              "      <td>600</td>\n",
              "    </tr>\n",
              "    <tr>\n",
              "      <th>5927</th>\n",
              "      <td>320000</td>\n",
              "      <td>2</td>\n",
              "      <td>1</td>\n",
              "      <td>2</td>\n",
              "      <td>29</td>\n",
              "      <td>0</td>\n",
              "      <td>0</td>\n",
              "      <td>-2</td>\n",
              "      <td>-1</td>\n",
              "      <td>-1</td>\n",
              "      <td>0</td>\n",
              "      <td>12130</td>\n",
              "      <td>0</td>\n",
              "      <td>0</td>\n",
              "      <td>364</td>\n",
              "      <td>16177</td>\n",
              "      <td>16706</td>\n",
              "      <td>0</td>\n",
              "      <td>0</td>\n",
              "      <td>364</td>\n",
              "      <td>16177</td>\n",
              "      <td>800</td>\n",
              "      <td>650</td>\n",
              "    </tr>\n",
              "    <tr>\n",
              "      <th>2450</th>\n",
              "      <td>30000</td>\n",
              "      <td>2</td>\n",
              "      <td>3</td>\n",
              "      <td>1</td>\n",
              "      <td>44</td>\n",
              "      <td>0</td>\n",
              "      <td>0</td>\n",
              "      <td>0</td>\n",
              "      <td>0</td>\n",
              "      <td>0</td>\n",
              "      <td>0</td>\n",
              "      <td>27631</td>\n",
              "      <td>29179</td>\n",
              "      <td>30146</td>\n",
              "      <td>26371</td>\n",
              "      <td>27567</td>\n",
              "      <td>30114</td>\n",
              "      <td>2000</td>\n",
              "      <td>1500</td>\n",
              "      <td>933</td>\n",
              "      <td>2000</td>\n",
              "      <td>3000</td>\n",
              "      <td>1000</td>\n",
              "    </tr>\n",
              "    <tr>\n",
              "      <th>5123</th>\n",
              "      <td>180000</td>\n",
              "      <td>2</td>\n",
              "      <td>1</td>\n",
              "      <td>1</td>\n",
              "      <td>47</td>\n",
              "      <td>1</td>\n",
              "      <td>-2</td>\n",
              "      <td>-1</td>\n",
              "      <td>-1</td>\n",
              "      <td>-2</td>\n",
              "      <td>-2</td>\n",
              "      <td>-12</td>\n",
              "      <td>-12</td>\n",
              "      <td>3300</td>\n",
              "      <td>0</td>\n",
              "      <td>0</td>\n",
              "      <td>0</td>\n",
              "      <td>0</td>\n",
              "      <td>3312</td>\n",
              "      <td>0</td>\n",
              "      <td>0</td>\n",
              "      <td>0</td>\n",
              "      <td>0</td>\n",
              "    </tr>\n",
              "  </tbody>\n",
              "</table>\n",
              "</div>"
            ],
            "text/plain": [
              "       LIMIT_BAL  SEX  EDUCATION  ...  PAY_AMT4  PAY_AMT5  PAY_AMT6\n",
              "10875     400000    1          1  ...         0         0      3347\n",
              "7404       20000    2          1  ...       900       900       600\n",
              "5927      320000    2          1  ...     16177       800       650\n",
              "2450       30000    2          3  ...      2000      3000      1000\n",
              "5123      180000    2          1  ...         0         0         0\n",
              "\n",
              "[5 rows x 23 columns]"
            ]
          },
          "metadata": {
            "tags": []
          },
          "execution_count": 61
        }
      ]
    },
    {
      "cell_type": "code",
      "metadata": {
        "id": "y2LFQ8YwqZJW"
      },
      "source": [
        "#Hedef kolonun değişkene atanması\n",
        "y = df_resampled['DEFAULT'].copy()"
      ],
      "execution_count": 62,
      "outputs": []
    },
    {
      "cell_type": "code",
      "metadata": {
        "id": "9hpOQHsKrUMJ"
      },
      "source": [
        "#Modelin train edilebilmesi için one-hot-encoding yapılması.\n",
        "encode_columns = ['SEX','EDUCATION', 'MARRIAGE','PAY_0', 'PAY_2',\n",
        "       'PAY_3', 'PAY_4', 'PAY_5', 'PAY_6']\n",
        "X_encoded = pd.get_dummies(X, columns=encode_columns)"
      ],
      "execution_count": 63,
      "outputs": []
    },
    {
      "cell_type": "code",
      "metadata": {
        "id": "kFb1AIICtdka"
      },
      "source": [
        "#Verinin train-test'e bölünmesi ve scale edilmesi.\n",
        "X_train, X_test, y_train, y_test = train_test_split(\n",
        "    X_encoded, y, random_state=42)\n",
        "X_train_scaled=scale(X_train)\n",
        "X_test_scaled=scale(X_test)"
      ],
      "execution_count": 64,
      "outputs": []
    },
    {
      "cell_type": "code",
      "metadata": {
        "id": "ymSm2i2ju4KW",
        "colab": {
          "base_uri": "https://localhost:8080/"
        },
        "outputId": "b144a2b4-70ed-4764-cac0-5855900fba10"
      },
      "source": [
        "#Modelin hazırlanması\n",
        "clsf_svm = SVC()\n",
        "clsf_svm.fit(X_train_scaled, y_train)"
      ],
      "execution_count": 65,
      "outputs": [
        {
          "output_type": "execute_result",
          "data": {
            "text/plain": [
              "SVC(C=1.0, break_ties=False, cache_size=200, class_weight=None, coef0=0.0,\n",
              "    decision_function_shape='ovr', degree=3, gamma='scale', kernel='rbf',\n",
              "    max_iter=-1, probability=False, random_state=None, shrinking=True,\n",
              "    tol=0.001, verbose=False)"
            ]
          },
          "metadata": {
            "tags": []
          },
          "execution_count": 65
        }
      ]
    },
    {
      "cell_type": "code",
      "metadata": {
        "colab": {
          "base_uri": "https://localhost:8080/",
          "height": 296
        },
        "id": "bcC33y1qL_fs",
        "outputId": "90addb20-0c61-4570-b635-03c89ae269ca"
      },
      "source": [
        "#Confussion matrix'in hesabı\n",
        "plot_confusion_matrix(clsf_svm, \n",
        "                      X_test_scaled, \n",
        "                      y_test, \n",
        "                      values_format='d', \n",
        "                      display_labels=['Did not DEFAULT','DEFAULTED'])"
      ],
      "execution_count": 66,
      "outputs": [
        {
          "output_type": "execute_result",
          "data": {
            "text/plain": [
              "<sklearn.metrics._plot.confusion_matrix.ConfusionMatrixDisplay at 0x7f7a9a8e93d0>"
            ]
          },
          "metadata": {
            "tags": []
          },
          "execution_count": 66
        },
        {
          "output_type": "display_data",
          "data": {
            "image/png": "[encoded data removed]",
            "text/plain": [
              "<Figure size 432x288 with 2 Axes>"
            ]
          },
          "metadata": {
            "tags": [],
            "needs_background": "light"
          }
        }
      ]
    },
    {
      "cell_type": "code",
      "metadata": {
        "id": "1aBYEVZpPB1R"
      },
      "source": [
        "#Optimizasyon hiperparametrelerinin belirlenmesi\n",
        "hiper_params=[\n",
        "  {'C' : [0.5, 1, 10, 100],\n",
        "   'gamma' : ['scale', 1, 0.1, 0.01, 0.001, 0.0001],\n",
        "   'kernel' : ['rbf']},\n",
        "]"
      ],
      "execution_count": 67,
      "outputs": []
    },
    {
      "cell_type": "code",
      "metadata": {
        "id": "CXQFIzEKWJeu",
        "colab": {
          "base_uri": "https://localhost:8080/"
        },
        "outputId": "1e5d382c-1600-416d-9ec1-26311f7d8dc2"
      },
      "source": [
        "#Parametre optimizasyonu\n",
        "\n",
        "optimized_params = GridSearchCV(\n",
        "    SVC(),          \n",
        "    hiper_params,   \n",
        "    cv=5,                 #Cross Validation 5 belirlendi.\n",
        "    scoring='accuracy',\n",
        "    verbose=2\n",
        ")\n",
        "\n",
        "optimized_params.fit(X_train_scaled, y_train)\n",
        "print(optimized_params.best_params_)"
      ],
      "execution_count": 68,
      "outputs": [
        {
          "output_type": "stream",
          "text": [
            "Fitting 5 folds for each of 24 candidates, totalling 120 fits\n",
            "[CV] C=0.5, gamma=scale, kernel=rbf ..................................\n"
          ],
          "name": "stdout"
        },
        {
          "output_type": "stream",
          "text": [
            "[Parallel(n_jobs=1)]: Using backend SequentialBackend with 1 concurrent workers.\n"
          ],
          "name": "stderr"
        },
        {
          "output_type": "stream",
          "text": [
            "[CV] ................... C=0.5, gamma=scale, kernel=rbf, total=   0.2s\n",
            "[CV] C=0.5, gamma=scale, kernel=rbf ..................................\n"
          ],
          "name": "stdout"
        },
        {
          "output_type": "stream",
          "text": [
            "[Parallel(n_jobs=1)]: Done   1 out of   1 | elapsed:    0.2s remaining:    0.0s\n"
          ],
          "name": "stderr"
        },
        {
          "output_type": "stream",
          "text": [
            "[CV] ................... C=0.5, gamma=scale, kernel=rbf, total=   0.2s\n",
            "[CV] C=0.5, gamma=scale, kernel=rbf ..................................\n",
            "[CV] ................... C=0.5, gamma=scale, kernel=rbf, total=   0.2s\n",
            "[CV] C=0.5, gamma=scale, kernel=rbf ..................................\n",
            "[CV] ................... C=0.5, gamma=scale, kernel=rbf, total=   0.2s\n",
            "[CV] C=0.5, gamma=scale, kernel=rbf ..................................\n",
            "[CV] ................... C=0.5, gamma=scale, kernel=rbf, total=   0.2s\n",
            "[CV] C=0.5, gamma=1, kernel=rbf ......................................\n",
            "[CV] ....................... C=0.5, gamma=1, kernel=rbf, total=   0.3s\n",
            "[CV] C=0.5, gamma=1, kernel=rbf ......................................\n",
            "[CV] ....................... C=0.5, gamma=1, kernel=rbf, total=   0.3s\n",
            "[CV] C=0.5, gamma=1, kernel=rbf ......................................\n",
            "[CV] ....................... C=0.5, gamma=1, kernel=rbf, total=   0.3s\n",
            "[CV] C=0.5, gamma=1, kernel=rbf ......................................\n",
            "[CV] ....................... C=0.5, gamma=1, kernel=rbf, total=   0.3s\n",
            "[CV] C=0.5, gamma=1, kernel=rbf ......................................\n",
            "[CV] ....................... C=0.5, gamma=1, kernel=rbf, total=   0.3s\n",
            "[CV] C=0.5, gamma=0.1, kernel=rbf ....................................\n",
            "[CV] ..................... C=0.5, gamma=0.1, kernel=rbf, total=   0.2s\n",
            "[CV] C=0.5, gamma=0.1, kernel=rbf ....................................\n",
            "[CV] ..................... C=0.5, gamma=0.1, kernel=rbf, total=   0.3s\n",
            "[CV] C=0.5, gamma=0.1, kernel=rbf ....................................\n",
            "[CV] ..................... C=0.5, gamma=0.1, kernel=rbf, total=   0.2s\n",
            "[CV] C=0.5, gamma=0.1, kernel=rbf ....................................\n",
            "[CV] ..................... C=0.5, gamma=0.1, kernel=rbf, total=   0.2s\n",
            "[CV] C=0.5, gamma=0.1, kernel=rbf ....................................\n",
            "[CV] ..................... C=0.5, gamma=0.1, kernel=rbf, total=   0.2s\n",
            "[CV] C=0.5, gamma=0.01, kernel=rbf ...................................\n",
            "[CV] .................... C=0.5, gamma=0.01, kernel=rbf, total=   0.2s\n",
            "[CV] C=0.5, gamma=0.01, kernel=rbf ...................................\n",
            "[CV] .................... C=0.5, gamma=0.01, kernel=rbf, total=   0.2s\n",
            "[CV] C=0.5, gamma=0.01, kernel=rbf ...................................\n",
            "[CV] .................... C=0.5, gamma=0.01, kernel=rbf, total=   0.2s\n",
            "[CV] C=0.5, gamma=0.01, kernel=rbf ...................................\n",
            "[CV] .................... C=0.5, gamma=0.01, kernel=rbf, total=   0.2s\n",
            "[CV] C=0.5, gamma=0.01, kernel=rbf ...................................\n",
            "[CV] .................... C=0.5, gamma=0.01, kernel=rbf, total=   0.2s\n",
            "[CV] C=0.5, gamma=0.001, kernel=rbf ..................................\n",
            "[CV] ................... C=0.5, gamma=0.001, kernel=rbf, total=   0.2s\n",
            "[CV] C=0.5, gamma=0.001, kernel=rbf ..................................\n",
            "[CV] ................... C=0.5, gamma=0.001, kernel=rbf, total=   0.2s\n",
            "[CV] C=0.5, gamma=0.001, kernel=rbf ..................................\n",
            "[CV] ................... C=0.5, gamma=0.001, kernel=rbf, total=   0.2s\n",
            "[CV] C=0.5, gamma=0.001, kernel=rbf ..................................\n",
            "[CV] ................... C=0.5, gamma=0.001, kernel=rbf, total=   0.2s\n",
            "[CV] C=0.5, gamma=0.001, kernel=rbf ..................................\n",
            "[CV] ................... C=0.5, gamma=0.001, kernel=rbf, total=   0.2s\n",
            "[CV] C=0.5, gamma=0.0001, kernel=rbf .................................\n",
            "[CV] .................. C=0.5, gamma=0.0001, kernel=rbf, total=   0.3s\n",
            "[CV] C=0.5, gamma=0.0001, kernel=rbf .................................\n",
            "[CV] .................. C=0.5, gamma=0.0001, kernel=rbf, total=   0.3s\n",
            "[CV] C=0.5, gamma=0.0001, kernel=rbf .................................\n",
            "[CV] .................. C=0.5, gamma=0.0001, kernel=rbf, total=   0.3s\n",
            "[CV] C=0.5, gamma=0.0001, kernel=rbf .................................\n",
            "[CV] .................. C=0.5, gamma=0.0001, kernel=rbf, total=   0.3s\n",
            "[CV] C=0.5, gamma=0.0001, kernel=rbf .................................\n",
            "[CV] .................. C=0.5, gamma=0.0001, kernel=rbf, total=   0.3s\n",
            "[CV] C=1, gamma=scale, kernel=rbf ....................................\n",
            "[CV] ..................... C=1, gamma=scale, kernel=rbf, total=   0.2s\n",
            "[CV] C=1, gamma=scale, kernel=rbf ....................................\n",
            "[CV] ..................... C=1, gamma=scale, kernel=rbf, total=   0.2s\n",
            "[CV] C=1, gamma=scale, kernel=rbf ....................................\n",
            "[CV] ..................... C=1, gamma=scale, kernel=rbf, total=   0.2s\n",
            "[CV] C=1, gamma=scale, kernel=rbf ....................................\n",
            "[CV] ..................... C=1, gamma=scale, kernel=rbf, total=   0.2s\n",
            "[CV] C=1, gamma=scale, kernel=rbf ....................................\n",
            "[CV] ..................... C=1, gamma=scale, kernel=rbf, total=   0.2s\n",
            "[CV] C=1, gamma=1, kernel=rbf ........................................\n",
            "[CV] ......................... C=1, gamma=1, kernel=rbf, total=   0.3s\n",
            "[CV] C=1, gamma=1, kernel=rbf ........................................\n",
            "[CV] ......................... C=1, gamma=1, kernel=rbf, total=   0.3s\n",
            "[CV] C=1, gamma=1, kernel=rbf ........................................\n",
            "[CV] ......................... C=1, gamma=1, kernel=rbf, total=   0.3s\n",
            "[CV] C=1, gamma=1, kernel=rbf ........................................\n",
            "[CV] ......................... C=1, gamma=1, kernel=rbf, total=   0.3s\n",
            "[CV] C=1, gamma=1, kernel=rbf ........................................\n",
            "[CV] ......................... C=1, gamma=1, kernel=rbf, total=   0.3s\n",
            "[CV] C=1, gamma=0.1, kernel=rbf ......................................\n",
            "[CV] ....................... C=1, gamma=0.1, kernel=rbf, total=   0.3s\n",
            "[CV] C=1, gamma=0.1, kernel=rbf ......................................\n",
            "[CV] ....................... C=1, gamma=0.1, kernel=rbf, total=   0.3s\n",
            "[CV] C=1, gamma=0.1, kernel=rbf ......................................\n",
            "[CV] ....................... C=1, gamma=0.1, kernel=rbf, total=   0.3s\n",
            "[CV] C=1, gamma=0.1, kernel=rbf ......................................\n",
            "[CV] ....................... C=1, gamma=0.1, kernel=rbf, total=   0.3s\n",
            "[CV] C=1, gamma=0.1, kernel=rbf ......................................\n",
            "[CV] ....................... C=1, gamma=0.1, kernel=rbf, total=   0.3s\n",
            "[CV] C=1, gamma=0.01, kernel=rbf .....................................\n",
            "[CV] ...................... C=1, gamma=0.01, kernel=rbf, total=   0.2s\n",
            "[CV] C=1, gamma=0.01, kernel=rbf .....................................\n",
            "[CV] ...................... C=1, gamma=0.01, kernel=rbf, total=   0.2s\n",
            "[CV] C=1, gamma=0.01, kernel=rbf .....................................\n",
            "[CV] ...................... C=1, gamma=0.01, kernel=rbf, total=   0.2s\n",
            "[CV] C=1, gamma=0.01, kernel=rbf .....................................\n",
            "[CV] ...................... C=1, gamma=0.01, kernel=rbf, total=   0.2s\n",
            "[CV] C=1, gamma=0.01, kernel=rbf .....................................\n",
            "[CV] ...................... C=1, gamma=0.01, kernel=rbf, total=   0.2s\n",
            "[CV] C=1, gamma=0.001, kernel=rbf ....................................\n",
            "[CV] ..................... C=1, gamma=0.001, kernel=rbf, total=   0.2s\n",
            "[CV] C=1, gamma=0.001, kernel=rbf ....................................\n",
            "[CV] ..................... C=1, gamma=0.001, kernel=rbf, total=   0.2s\n",
            "[CV] C=1, gamma=0.001, kernel=rbf ....................................\n",
            "[CV] ..................... C=1, gamma=0.001, kernel=rbf, total=   0.2s\n",
            "[CV] C=1, gamma=0.001, kernel=rbf ....................................\n",
            "[CV] ..................... C=1, gamma=0.001, kernel=rbf, total=   0.2s\n",
            "[CV] C=1, gamma=0.001, kernel=rbf ....................................\n",
            "[CV] ..................... C=1, gamma=0.001, kernel=rbf, total=   0.2s\n",
            "[CV] C=1, gamma=0.0001, kernel=rbf ...................................\n",
            "[CV] .................... C=1, gamma=0.0001, kernel=rbf, total=   0.3s\n",
            "[CV] C=1, gamma=0.0001, kernel=rbf ...................................\n",
            "[CV] .................... C=1, gamma=0.0001, kernel=rbf, total=   0.3s\n",
            "[CV] C=1, gamma=0.0001, kernel=rbf ...................................\n",
            "[CV] .................... C=1, gamma=0.0001, kernel=rbf, total=   0.3s\n",
            "[CV] C=1, gamma=0.0001, kernel=rbf ...................................\n",
            "[CV] .................... C=1, gamma=0.0001, kernel=rbf, total=   0.3s\n",
            "[CV] C=1, gamma=0.0001, kernel=rbf ...................................\n",
            "[CV] .................... C=1, gamma=0.0001, kernel=rbf, total=   0.3s\n",
            "[CV] C=10, gamma=scale, kernel=rbf ...................................\n",
            "[CV] .................... C=10, gamma=scale, kernel=rbf, total=   0.2s\n",
            "[CV] C=10, gamma=scale, kernel=rbf ...................................\n",
            "[CV] .................... C=10, gamma=scale, kernel=rbf, total=   0.2s\n",
            "[CV] C=10, gamma=scale, kernel=rbf ...................................\n",
            "[CV] .................... C=10, gamma=scale, kernel=rbf, total=   0.2s\n",
            "[CV] C=10, gamma=scale, kernel=rbf ...................................\n",
            "[CV] .................... C=10, gamma=scale, kernel=rbf, total=   0.2s\n",
            "[CV] C=10, gamma=scale, kernel=rbf ...................................\n",
            "[CV] .................... C=10, gamma=scale, kernel=rbf, total=   0.2s\n",
            "[CV] C=10, gamma=1, kernel=rbf .......................................\n",
            "[CV] ........................ C=10, gamma=1, kernel=rbf, total=   0.3s\n",
            "[CV] C=10, gamma=1, kernel=rbf .......................................\n",
            "[CV] ........................ C=10, gamma=1, kernel=rbf, total=   0.3s\n",
            "[CV] C=10, gamma=1, kernel=rbf .......................................\n",
            "[CV] ........................ C=10, gamma=1, kernel=rbf, total=   0.3s\n",
            "[CV] C=10, gamma=1, kernel=rbf .......................................\n",
            "[CV] ........................ C=10, gamma=1, kernel=rbf, total=   0.3s\n",
            "[CV] C=10, gamma=1, kernel=rbf .......................................\n",
            "[CV] ........................ C=10, gamma=1, kernel=rbf, total=   0.3s\n",
            "[CV] C=10, gamma=0.1, kernel=rbf .....................................\n",
            "[CV] ...................... C=10, gamma=0.1, kernel=rbf, total=   0.3s\n",
            "[CV] C=10, gamma=0.1, kernel=rbf .....................................\n",
            "[CV] ...................... C=10, gamma=0.1, kernel=rbf, total=   0.3s\n",
            "[CV] C=10, gamma=0.1, kernel=rbf .....................................\n",
            "[CV] ...................... C=10, gamma=0.1, kernel=rbf, total=   0.3s\n",
            "[CV] C=10, gamma=0.1, kernel=rbf .....................................\n",
            "[CV] ...................... C=10, gamma=0.1, kernel=rbf, total=   0.3s\n",
            "[CV] C=10, gamma=0.1, kernel=rbf .....................................\n",
            "[CV] ...................... C=10, gamma=0.1, kernel=rbf, total=   0.3s\n",
            "[CV] C=10, gamma=0.01, kernel=rbf ....................................\n",
            "[CV] ..................... C=10, gamma=0.01, kernel=rbf, total=   0.2s\n",
            "[CV] C=10, gamma=0.01, kernel=rbf ....................................\n",
            "[CV] ..................... C=10, gamma=0.01, kernel=rbf, total=   0.2s\n",
            "[CV] C=10, gamma=0.01, kernel=rbf ....................................\n",
            "[CV] ..................... C=10, gamma=0.01, kernel=rbf, total=   0.2s\n",
            "[CV] C=10, gamma=0.01, kernel=rbf ....................................\n",
            "[CV] ..................... C=10, gamma=0.01, kernel=rbf, total=   0.2s\n",
            "[CV] C=10, gamma=0.01, kernel=rbf ....................................\n",
            "[CV] ..................... C=10, gamma=0.01, kernel=rbf, total=   0.2s\n",
            "[CV] C=10, gamma=0.001, kernel=rbf ...................................\n",
            "[CV] .................... C=10, gamma=0.001, kernel=rbf, total=   0.2s\n",
            "[CV] C=10, gamma=0.001, kernel=rbf ...................................\n",
            "[CV] .................... C=10, gamma=0.001, kernel=rbf, total=   0.2s\n",
            "[CV] C=10, gamma=0.001, kernel=rbf ...................................\n",
            "[CV] .................... C=10, gamma=0.001, kernel=rbf, total=   0.2s\n",
            "[CV] C=10, gamma=0.001, kernel=rbf ...................................\n",
            "[CV] .................... C=10, gamma=0.001, kernel=rbf, total=   0.2s\n",
            "[CV] C=10, gamma=0.001, kernel=rbf ...................................\n",
            "[CV] .................... C=10, gamma=0.001, kernel=rbf, total=   0.2s\n",
            "[CV] C=10, gamma=0.0001, kernel=rbf ..................................\n",
            "[CV] ................... C=10, gamma=0.0001, kernel=rbf, total=   0.2s\n",
            "[CV] C=10, gamma=0.0001, kernel=rbf ..................................\n",
            "[CV] ................... C=10, gamma=0.0001, kernel=rbf, total=   0.2s\n",
            "[CV] C=10, gamma=0.0001, kernel=rbf ..................................\n",
            "[CV] ................... C=10, gamma=0.0001, kernel=rbf, total=   0.2s\n",
            "[CV] C=10, gamma=0.0001, kernel=rbf ..................................\n",
            "[CV] ................... C=10, gamma=0.0001, kernel=rbf, total=   0.2s\n",
            "[CV] C=10, gamma=0.0001, kernel=rbf ..................................\n",
            "[CV] ................... C=10, gamma=0.0001, kernel=rbf, total=   0.2s\n",
            "[CV] C=100, gamma=scale, kernel=rbf ..................................\n",
            "[CV] ................... C=100, gamma=scale, kernel=rbf, total=   0.3s\n",
            "[CV] C=100, gamma=scale, kernel=rbf ..................................\n",
            "[CV] ................... C=100, gamma=scale, kernel=rbf, total=   0.3s\n",
            "[CV] C=100, gamma=scale, kernel=rbf ..................................\n",
            "[CV] ................... C=100, gamma=scale, kernel=rbf, total=   0.3s\n",
            "[CV] C=100, gamma=scale, kernel=rbf ..................................\n",
            "[CV] ................... C=100, gamma=scale, kernel=rbf, total=   0.3s\n",
            "[CV] C=100, gamma=scale, kernel=rbf ..................................\n",
            "[CV] ................... C=100, gamma=scale, kernel=rbf, total=   0.3s\n",
            "[CV] C=100, gamma=1, kernel=rbf ......................................\n",
            "[CV] ....................... C=100, gamma=1, kernel=rbf, total=   0.3s\n",
            "[CV] C=100, gamma=1, kernel=rbf ......................................\n",
            "[CV] ....................... C=100, gamma=1, kernel=rbf, total=   0.3s\n",
            "[CV] C=100, gamma=1, kernel=rbf ......................................\n",
            "[CV] ....................... C=100, gamma=1, kernel=rbf, total=   0.3s\n",
            "[CV] C=100, gamma=1, kernel=rbf ......................................\n",
            "[CV] ....................... C=100, gamma=1, kernel=rbf, total=   0.3s\n",
            "[CV] C=100, gamma=1, kernel=rbf ......................................\n",
            "[CV] ....................... C=100, gamma=1, kernel=rbf, total=   0.3s\n",
            "[CV] C=100, gamma=0.1, kernel=rbf ....................................\n",
            "[CV] ..................... C=100, gamma=0.1, kernel=rbf, total=   0.3s\n",
            "[CV] C=100, gamma=0.1, kernel=rbf ....................................\n",
            "[CV] ..................... C=100, gamma=0.1, kernel=rbf, total=   0.3s\n",
            "[CV] C=100, gamma=0.1, kernel=rbf ....................................\n",
            "[CV] ..................... C=100, gamma=0.1, kernel=rbf, total=   0.3s\n",
            "[CV] C=100, gamma=0.1, kernel=rbf ....................................\n",
            "[CV] ..................... C=100, gamma=0.1, kernel=rbf, total=   0.3s\n",
            "[CV] C=100, gamma=0.1, kernel=rbf ....................................\n",
            "[CV] ..................... C=100, gamma=0.1, kernel=rbf, total=   0.3s\n",
            "[CV] C=100, gamma=0.01, kernel=rbf ...................................\n",
            "[CV] .................... C=100, gamma=0.01, kernel=rbf, total=   0.3s\n",
            "[CV] C=100, gamma=0.01, kernel=rbf ...................................\n",
            "[CV] .................... C=100, gamma=0.01, kernel=rbf, total=   0.3s\n",
            "[CV] C=100, gamma=0.01, kernel=rbf ...................................\n",
            "[CV] .................... C=100, gamma=0.01, kernel=rbf, total=   0.3s\n",
            "[CV] C=100, gamma=0.01, kernel=rbf ...................................\n",
            "[CV] .................... C=100, gamma=0.01, kernel=rbf, total=   0.3s\n",
            "[CV] C=100, gamma=0.01, kernel=rbf ...................................\n",
            "[CV] .................... C=100, gamma=0.01, kernel=rbf, total=   0.3s\n",
            "[CV] C=100, gamma=0.001, kernel=rbf ..................................\n",
            "[CV] ................... C=100, gamma=0.001, kernel=rbf, total=   0.2s\n",
            "[CV] C=100, gamma=0.001, kernel=rbf ..................................\n",
            "[CV] ................... C=100, gamma=0.001, kernel=rbf, total=   0.2s\n",
            "[CV] C=100, gamma=0.001, kernel=rbf ..................................\n",
            "[CV] ................... C=100, gamma=0.001, kernel=rbf, total=   0.2s\n",
            "[CV] C=100, gamma=0.001, kernel=rbf ..................................\n",
            "[CV] ................... C=100, gamma=0.001, kernel=rbf, total=   0.2s\n",
            "[CV] C=100, gamma=0.001, kernel=rbf ..................................\n",
            "[CV] ................... C=100, gamma=0.001, kernel=rbf, total=   0.2s\n",
            "[CV] C=100, gamma=0.0001, kernel=rbf .................................\n",
            "[CV] .................. C=100, gamma=0.0001, kernel=rbf, total=   0.2s\n",
            "[CV] C=100, gamma=0.0001, kernel=rbf .................................\n",
            "[CV] .................. C=100, gamma=0.0001, kernel=rbf, total=   0.2s\n",
            "[CV] C=100, gamma=0.0001, kernel=rbf .................................\n",
            "[CV] .................. C=100, gamma=0.0001, kernel=rbf, total=   0.2s\n",
            "[CV] C=100, gamma=0.0001, kernel=rbf .................................\n",
            "[CV] .................. C=100, gamma=0.0001, kernel=rbf, total=   0.2s\n",
            "[CV] C=100, gamma=0.0001, kernel=rbf .................................\n",
            "[CV] .................. C=100, gamma=0.0001, kernel=rbf, total=   0.2s\n"
          ],
          "name": "stdout"
        },
        {
          "output_type": "stream",
          "text": [
            "[Parallel(n_jobs=1)]: Done 120 out of 120 | elapsed:   29.5s finished\n"
          ],
          "name": "stderr"
        },
        {
          "output_type": "stream",
          "text": [
            "{'C': 10, 'gamma': 0.001, 'kernel': 'rbf'}\n"
          ],
          "name": "stdout"
        }
      ]
    },
    {
      "cell_type": "code",
      "metadata": {
        "colab": {
          "base_uri": "https://localhost:8080/"
        },
        "id": "AbzRc65pYwul",
        "outputId": "e5658cc5-4004-41f2-e583-fcf7ee44486d"
      },
      "source": [
        "#Belirlenen parametreler ile modelin eğitilmesi\n",
        "clsf_svm = SVC(C=10, gamma=0.001, random_state=42)\n",
        "clsf_svm.fit(X_train_scaled, y_train)"
      ],
      "execution_count": 71,
      "outputs": [
        {
          "output_type": "execute_result",
          "data": {
            "text/plain": [
              "SVC(C=10, break_ties=False, cache_size=200, class_weight=None, coef0=0.0,\n",
              "    decision_function_shape='ovr', degree=3, gamma=0.001, kernel='rbf',\n",
              "    max_iter=-1, probability=False, random_state=42, shrinking=True, tol=0.001,\n",
              "    verbose=False)"
            ]
          },
          "metadata": {
            "tags": []
          },
          "execution_count": 71
        }
      ]
    },
    {
      "cell_type": "code",
      "metadata": {
        "colab": {
          "base_uri": "https://localhost:8080/",
          "height": 296
        },
        "id": "Qz1UCwc7bEGc",
        "outputId": "58876f00-98cb-4149-a85e-26d929ce58e3"
      },
      "source": [
        "#Optimize edilmiş modelin tablosunun çizdirilmesi\n",
        "\n",
        "plot_confusion_matrix(clsf_svm,\n",
        "                      X_test_scaled,\n",
        "                      y_test,\n",
        "                      display_labels = ['Did not DEFAULT', 'DEFAULTED'],\n",
        "                      values_format='d')"
      ],
      "execution_count": 72,
      "outputs": [
        {
          "output_type": "execute_result",
          "data": {
            "text/plain": [
              "<sklearn.metrics._plot.confusion_matrix.ConfusionMatrixDisplay at 0x7f7a9aa781d0>"
            ]
          },
          "metadata": {
            "tags": []
          },
          "execution_count": 72
        },
        {
          "output_type": "display_data",
          "data": {
            "image/png": "[encoded data removed]",
            "text/plain": [
              "<Figure size 432x288 with 2 Axes>"
            ]
          },
          "metadata": {
            "tags": [],
            "needs_background": "light"
          }
        }
      ]
    },
    {
      "cell_type": "code",
      "metadata": {
        "id": "-k4SyvsccRy6"
      },
      "source": [
        "#PCA Optimizasyonu\n",
        "\n",
        "pca = PCA()\n",
        "X_trained_PCA = pca.fit_transform(X_train_scaled)\n",
        "\n",
        "per_var = np.round(pca.explained_variance_ratio_*100, decimals=1)\n",
        "labels = [str(x) for x in range(1, len(per_var)+1)]"
      ],
      "execution_count": 75,
      "outputs": []
    },
    {
      "cell_type": "code",
      "metadata": {
        "colab": {
          "base_uri": "https://localhost:8080/",
          "height": 278
        },
        "id": "-0PpVTHofS9F",
        "outputId": "a426c8f7-fec5-49c2-a25d-0df320a7cd73"
      },
      "source": [
        "#PCA'nın çizdirilmesi\n",
        "\n",
        "plt.bar(x=range(1,len(per_var)+1), height=per_var)\n",
        "plt.tick_params(\n",
        "    axis='x',\n",
        "    which='both',\n",
        "    bottom=False,\n",
        "    labelbottom=False,\n",
        "    top=False)\n",
        "\n",
        "plt.ylabel('Percentage of Explaned Variance')\n",
        "plt.xlabel('Principal Components ')\n",
        "plt.title('Scree Plot')\n",
        "\n",
        "plt.show()"
      ],
      "execution_count": 80,
      "outputs": [
        {
          "output_type": "display_data",
          "data": {
            "image/png": "[encoded data removed]",
            "text/plain": [
              "<Figure size 432x288 with 1 Axes>"
            ]
          },
          "metadata": {
            "tags": [],
            "needs_background": "light"
          }
        }
      ]
    },
    {
      "cell_type": "code",
      "metadata": {
        "colab": {
          "base_uri": "https://localhost:8080/"
        },
        "id": "w1XEx_WdwJKT",
        "outputId": "5fa51ca0-4419-472a-b5d3-14af4cff8990"
      },
      "source": [
        "#PCA'nın uygulanarak tekrardan hesap yapılması.\n",
        "\n",
        "train_pc1_coor = X_trained_PCA[:, 0]\n",
        "train_pc2_coor = X_trained_PCA[:, 1]\n",
        "\n",
        "PCA_train_scaled = scale(np.column_stack((train_pc1_coor, train_pc2_coor)))\n",
        "\n",
        "param_grid=[\n",
        "   {'C' : [1, 10, 100, 1000],\n",
        "    'gamma' : ['scale', 1, 0.1, 0.01, 0.001, 0.0001],\n",
        "    'kernel' : ['rbf']},\n",
        "]\n",
        "    \n",
        "optimal_values = GridSearchCV(\n",
        "    SVC(),\n",
        "    param_grid,\n",
        "    cv=5,\n",
        "    scoring='accuracy',\n",
        "    verbose=2\n",
        ")\n",
        "\n",
        "optimal_values.fit(PCA_train_scaled, y_train)\n",
        "print(optimal_values.best_params_)"
      ],
      "execution_count": 91,
      "outputs": [
        {
          "output_type": "stream",
          "text": [
            "Fitting 5 folds for each of 24 candidates, totalling 120 fits\n",
            "[CV] C=1, gamma=scale, kernel=rbf ....................................\n",
            "[CV] ..................... C=1, gamma=scale, kernel=rbf, total=   0.0s\n",
            "[CV] C=1, gamma=scale, kernel=rbf ....................................\n",
            "[CV] ..................... C=1, gamma=scale, kernel=rbf, total=   0.0s\n",
            "[CV] C=1, gamma=scale, kernel=rbf ....................................\n",
            "[CV] ..................... C=1, gamma=scale, kernel=rbf, total=   0.0s\n",
            "[CV] C=1, gamma=scale, kernel=rbf ....................................\n",
            "[CV] ..................... C=1, gamma=scale, kernel=rbf, total=   0.0s\n",
            "[CV] C=1, gamma=scale, kernel=rbf ...................................."
          ],
          "name": "stdout"
        },
        {
          "output_type": "stream",
          "text": [
            "[Parallel(n_jobs=1)]: Using backend SequentialBackend with 1 concurrent workers.\n",
            "[Parallel(n_jobs=1)]: Done   1 out of   1 | elapsed:    0.0s remaining:    0.0s\n"
          ],
          "name": "stderr"
        },
        {
          "output_type": "stream",
          "text": [
            "\n",
            "[CV] ..................... C=1, gamma=scale, kernel=rbf, total=   0.1s\n",
            "[CV] C=1, gamma=1, kernel=rbf ........................................\n",
            "[CV] ......................... C=1, gamma=1, kernel=rbf, total=   0.0s\n",
            "[CV] C=1, gamma=1, kernel=rbf ........................................\n",
            "[CV] ......................... C=1, gamma=1, kernel=rbf, total=   0.1s\n",
            "[CV] C=1, gamma=1, kernel=rbf ........................................\n",
            "[CV] ......................... C=1, gamma=1, kernel=rbf, total=   0.1s\n",
            "[CV] C=1, gamma=1, kernel=rbf ........................................\n",
            "[CV] ......................... C=1, gamma=1, kernel=rbf, total=   0.1s\n",
            "[CV] C=1, gamma=1, kernel=rbf ........................................\n",
            "[CV] ......................... C=1, gamma=1, kernel=rbf, total=   0.0s\n",
            "[CV] C=1, gamma=0.1, kernel=rbf ......................................\n",
            "[CV] ....................... C=1, gamma=0.1, kernel=rbf, total=   0.1s\n",
            "[CV] C=1, gamma=0.1, kernel=rbf ......................................\n",
            "[CV] ....................... C=1, gamma=0.1, kernel=rbf, total=   0.1s\n",
            "[CV] C=1, gamma=0.1, kernel=rbf ......................................\n",
            "[CV] ....................... C=1, gamma=0.1, kernel=rbf, total=   0.1s\n",
            "[CV] C=1, gamma=0.1, kernel=rbf ......................................\n",
            "[CV] ....................... C=1, gamma=0.1, kernel=rbf, total=   0.1s\n",
            "[CV] C=1, gamma=0.1, kernel=rbf ......................................\n",
            "[CV] ....................... C=1, gamma=0.1, kernel=rbf, total=   0.1s\n",
            "[CV] C=1, gamma=0.01, kernel=rbf .....................................\n",
            "[CV] ...................... C=1, gamma=0.01, kernel=rbf, total=   0.1s\n",
            "[CV] C=1, gamma=0.01, kernel=rbf .....................................\n",
            "[CV] ...................... C=1, gamma=0.01, kernel=rbf, total=   0.1s\n",
            "[CV] C=1, gamma=0.01, kernel=rbf .....................................\n",
            "[CV] ...................... C=1, gamma=0.01, kernel=rbf, total=   0.1s\n",
            "[CV] C=1, gamma=0.01, kernel=rbf .....................................\n",
            "[CV] ...................... C=1, gamma=0.01, kernel=rbf, total=   0.1s\n",
            "[CV] C=1, gamma=0.01, kernel=rbf .....................................\n",
            "[CV] ...................... C=1, gamma=0.01, kernel=rbf, total=   0.1s\n",
            "[CV] C=1, gamma=0.001, kernel=rbf ....................................\n",
            "[CV] ..................... C=1, gamma=0.001, kernel=rbf, total=   0.1s\n",
            "[CV] C=1, gamma=0.001, kernel=rbf ....................................\n",
            "[CV] ..................... C=1, gamma=0.001, kernel=rbf, total=   0.1s\n",
            "[CV] C=1, gamma=0.001, kernel=rbf ....................................\n",
            "[CV] ..................... C=1, gamma=0.001, kernel=rbf, total=   0.1s\n",
            "[CV] C=1, gamma=0.001, kernel=rbf ....................................\n",
            "[CV] ..................... C=1, gamma=0.001, kernel=rbf, total=   0.1s\n",
            "[CV] C=1, gamma=0.001, kernel=rbf ....................................\n",
            "[CV] ..................... C=1, gamma=0.001, kernel=rbf, total=   0.1s\n",
            "[CV] C=1, gamma=0.0001, kernel=rbf ...................................\n",
            "[CV] .................... C=1, gamma=0.0001, kernel=rbf, total=   0.1s\n",
            "[CV] C=1, gamma=0.0001, kernel=rbf ...................................\n",
            "[CV] .................... C=1, gamma=0.0001, kernel=rbf, total=   0.1s\n",
            "[CV] C=1, gamma=0.0001, kernel=rbf ...................................\n",
            "[CV] .................... C=1, gamma=0.0001, kernel=rbf, total=   0.1s\n",
            "[CV] C=1, gamma=0.0001, kernel=rbf ...................................\n",
            "[CV] .................... C=1, gamma=0.0001, kernel=rbf, total=   0.1s\n",
            "[CV] C=1, gamma=0.0001, kernel=rbf ...................................\n",
            "[CV] .................... C=1, gamma=0.0001, kernel=rbf, total=   0.1s\n",
            "[CV] C=10, gamma=scale, kernel=rbf ...................................\n",
            "[CV] .................... C=10, gamma=scale, kernel=rbf, total=   0.1s\n",
            "[CV] C=10, gamma=scale, kernel=rbf ...................................\n",
            "[CV] .................... C=10, gamma=scale, kernel=rbf, total=   0.1s\n",
            "[CV] C=10, gamma=scale, kernel=rbf ...................................\n",
            "[CV] .................... C=10, gamma=scale, kernel=rbf, total=   0.1s\n",
            "[CV] C=10, gamma=scale, kernel=rbf ...................................\n",
            "[CV] .................... C=10, gamma=scale, kernel=rbf, total=   0.1s\n",
            "[CV] C=10, gamma=scale, kernel=rbf ...................................\n",
            "[CV] .................... C=10, gamma=scale, kernel=rbf, total=   0.1s\n",
            "[CV] C=10, gamma=1, kernel=rbf .......................................\n",
            "[CV] ........................ C=10, gamma=1, kernel=rbf, total=   0.1s\n",
            "[CV] C=10, gamma=1, kernel=rbf .......................................\n",
            "[CV] ........................ C=10, gamma=1, kernel=rbf, total=   0.1s\n",
            "[CV] C=10, gamma=1, kernel=rbf .......................................\n",
            "[CV] ........................ C=10, gamma=1, kernel=rbf, total=   0.1s\n",
            "[CV] C=10, gamma=1, kernel=rbf .......................................\n",
            "[CV] ........................ C=10, gamma=1, kernel=rbf, total=   0.1s\n",
            "[CV] C=10, gamma=1, kernel=rbf .......................................\n",
            "[CV] ........................ C=10, gamma=1, kernel=rbf, total=   0.1s\n",
            "[CV] C=10, gamma=0.1, kernel=rbf .....................................\n",
            "[CV] ...................... C=10, gamma=0.1, kernel=rbf, total=   0.1s\n",
            "[CV] C=10, gamma=0.1, kernel=rbf .....................................\n",
            "[CV] ...................... C=10, gamma=0.1, kernel=rbf, total=   0.1s\n",
            "[CV] C=10, gamma=0.1, kernel=rbf .....................................\n",
            "[CV] ...................... C=10, gamma=0.1, kernel=rbf, total=   0.1s\n",
            "[CV] C=10, gamma=0.1, kernel=rbf .....................................\n",
            "[CV] ...................... C=10, gamma=0.1, kernel=rbf, total=   0.1s\n",
            "[CV] C=10, gamma=0.1, kernel=rbf .....................................\n",
            "[CV] ...................... C=10, gamma=0.1, kernel=rbf, total=   0.1s\n",
            "[CV] C=10, gamma=0.01, kernel=rbf ....................................\n",
            "[CV] ..................... C=10, gamma=0.01, kernel=rbf, total=   0.1s\n",
            "[CV] C=10, gamma=0.01, kernel=rbf ....................................\n",
            "[CV] ..................... C=10, gamma=0.01, kernel=rbf, total=   0.1s\n",
            "[CV] C=10, gamma=0.01, kernel=rbf ....................................\n",
            "[CV] ..................... C=10, gamma=0.01, kernel=rbf, total=   0.1s\n",
            "[CV] C=10, gamma=0.01, kernel=rbf ....................................\n",
            "[CV] ..................... C=10, gamma=0.01, kernel=rbf, total=   0.1s\n",
            "[CV] C=10, gamma=0.01, kernel=rbf ....................................\n",
            "[CV] ..................... C=10, gamma=0.01, kernel=rbf, total=   0.1s\n",
            "[CV] C=10, gamma=0.001, kernel=rbf ...................................\n",
            "[CV] .................... C=10, gamma=0.001, kernel=rbf, total=   0.1s\n",
            "[CV] C=10, gamma=0.001, kernel=rbf ...................................\n",
            "[CV] .................... C=10, gamma=0.001, kernel=rbf, total=   0.1s\n",
            "[CV] C=10, gamma=0.001, kernel=rbf ...................................\n",
            "[CV] .................... C=10, gamma=0.001, kernel=rbf, total=   0.1s\n",
            "[CV] C=10, gamma=0.001, kernel=rbf ...................................\n",
            "[CV] .................... C=10, gamma=0.001, kernel=rbf, total=   0.1s\n",
            "[CV] C=10, gamma=0.001, kernel=rbf ...................................\n",
            "[CV] .................... C=10, gamma=0.001, kernel=rbf, total=   0.1s\n",
            "[CV] C=10, gamma=0.0001, kernel=rbf ..................................\n",
            "[CV] ................... C=10, gamma=0.0001, kernel=rbf, total=   0.1s\n",
            "[CV] C=10, gamma=0.0001, kernel=rbf ..................................\n",
            "[CV] ................... C=10, gamma=0.0001, kernel=rbf, total=   0.1s\n",
            "[CV] C=10, gamma=0.0001, kernel=rbf ..................................\n",
            "[CV] ................... C=10, gamma=0.0001, kernel=rbf, total=   0.1s\n",
            "[CV] C=10, gamma=0.0001, kernel=rbf ..................................\n",
            "[CV] ................... C=10, gamma=0.0001, kernel=rbf, total=   0.1s\n",
            "[CV] C=10, gamma=0.0001, kernel=rbf ..................................\n",
            "[CV] ................... C=10, gamma=0.0001, kernel=rbf, total=   0.1s\n",
            "[CV] C=100, gamma=scale, kernel=rbf ..................................\n",
            "[CV] ................... C=100, gamma=scale, kernel=rbf, total=   0.1s\n",
            "[CV] C=100, gamma=scale, kernel=rbf ..................................\n",
            "[CV] ................... C=100, gamma=scale, kernel=rbf, total=   0.1s\n",
            "[CV] C=100, gamma=scale, kernel=rbf ..................................\n",
            "[CV] ................... C=100, gamma=scale, kernel=rbf, total=   0.1s\n",
            "[CV] C=100, gamma=scale, kernel=rbf ..................................\n",
            "[CV] ................... C=100, gamma=scale, kernel=rbf, total=   0.1s\n",
            "[CV] C=100, gamma=scale, kernel=rbf ..................................\n",
            "[CV] ................... C=100, gamma=scale, kernel=rbf, total=   0.1s\n",
            "[CV] C=100, gamma=1, kernel=rbf ......................................\n",
            "[CV] ....................... C=100, gamma=1, kernel=rbf, total=   0.1s\n",
            "[CV] C=100, gamma=1, kernel=rbf ......................................\n",
            "[CV] ....................... C=100, gamma=1, kernel=rbf, total=   0.1s\n",
            "[CV] C=100, gamma=1, kernel=rbf ......................................\n",
            "[CV] ....................... C=100, gamma=1, kernel=rbf, total=   0.1s\n",
            "[CV] C=100, gamma=1, kernel=rbf ......................................\n",
            "[CV] ....................... C=100, gamma=1, kernel=rbf, total=   0.1s\n",
            "[CV] C=100, gamma=1, kernel=rbf ......................................\n",
            "[CV] ....................... C=100, gamma=1, kernel=rbf, total=   0.1s\n",
            "[CV] C=100, gamma=0.1, kernel=rbf ....................................\n",
            "[CV] ..................... C=100, gamma=0.1, kernel=rbf, total=   0.1s\n",
            "[CV] C=100, gamma=0.1, kernel=rbf ....................................\n",
            "[CV] ..................... C=100, gamma=0.1, kernel=rbf, total=   0.1s\n",
            "[CV] C=100, gamma=0.1, kernel=rbf ....................................\n",
            "[CV] ..................... C=100, gamma=0.1, kernel=rbf, total=   0.1s\n",
            "[CV] C=100, gamma=0.1, kernel=rbf ....................................\n",
            "[CV] ..................... C=100, gamma=0.1, kernel=rbf, total=   0.1s\n",
            "[CV] C=100, gamma=0.1, kernel=rbf ....................................\n",
            "[CV] ..................... C=100, gamma=0.1, kernel=rbf, total=   0.1s\n",
            "[CV] C=100, gamma=0.01, kernel=rbf ...................................\n",
            "[CV] .................... C=100, gamma=0.01, kernel=rbf, total=   0.1s\n",
            "[CV] C=100, gamma=0.01, kernel=rbf ...................................\n",
            "[CV] .................... C=100, gamma=0.01, kernel=rbf, total=   0.1s\n",
            "[CV] C=100, gamma=0.01, kernel=rbf ...................................\n",
            "[CV] .................... C=100, gamma=0.01, kernel=rbf, total=   0.1s\n",
            "[CV] C=100, gamma=0.01, kernel=rbf ...................................\n",
            "[CV] .................... C=100, gamma=0.01, kernel=rbf, total=   0.1s\n",
            "[CV] C=100, gamma=0.01, kernel=rbf ...................................\n",
            "[CV] .................... C=100, gamma=0.01, kernel=rbf, total=   0.1s\n",
            "[CV] C=100, gamma=0.001, kernel=rbf ..................................\n",
            "[CV] ................... C=100, gamma=0.001, kernel=rbf, total=   0.1s\n",
            "[CV] C=100, gamma=0.001, kernel=rbf ..................................\n",
            "[CV] ................... C=100, gamma=0.001, kernel=rbf, total=   0.1s\n",
            "[CV] C=100, gamma=0.001, kernel=rbf ..................................\n",
            "[CV] ................... C=100, gamma=0.001, kernel=rbf, total=   0.1s\n",
            "[CV] C=100, gamma=0.001, kernel=rbf ..................................\n",
            "[CV] ................... C=100, gamma=0.001, kernel=rbf, total=   0.1s\n",
            "[CV] C=100, gamma=0.001, kernel=rbf ..................................\n",
            "[CV] ................... C=100, gamma=0.001, kernel=rbf, total=   0.1s\n",
            "[CV] C=100, gamma=0.0001, kernel=rbf .................................\n",
            "[CV] .................. C=100, gamma=0.0001, kernel=rbf, total=   0.1s\n",
            "[CV] C=100, gamma=0.0001, kernel=rbf .................................\n",
            "[CV] .................. C=100, gamma=0.0001, kernel=rbf, total=   0.1s\n",
            "[CV] C=100, gamma=0.0001, kernel=rbf .................................\n",
            "[CV] .................. C=100, gamma=0.0001, kernel=rbf, total=   0.1s\n",
            "[CV] C=100, gamma=0.0001, kernel=rbf .................................\n",
            "[CV] .................. C=100, gamma=0.0001, kernel=rbf, total=   0.1s\n",
            "[CV] C=100, gamma=0.0001, kernel=rbf .................................\n",
            "[CV] .................. C=100, gamma=0.0001, kernel=rbf, total=   0.1s\n",
            "[CV] C=1000, gamma=scale, kernel=rbf .................................\n",
            "[CV] .................. C=1000, gamma=scale, kernel=rbf, total=   0.4s\n",
            "[CV] C=1000, gamma=scale, kernel=rbf .................................\n",
            "[CV] .................. C=1000, gamma=scale, kernel=rbf, total=   0.4s\n",
            "[CV] C=1000, gamma=scale, kernel=rbf .................................\n",
            "[CV] .................. C=1000, gamma=scale, kernel=rbf, total=   0.4s\n",
            "[CV] C=1000, gamma=scale, kernel=rbf .................................\n",
            "[CV] .................. C=1000, gamma=scale, kernel=rbf, total=   0.3s\n",
            "[CV] C=1000, gamma=scale, kernel=rbf .................................\n",
            "[CV] .................. C=1000, gamma=scale, kernel=rbf, total=   0.3s\n",
            "[CV] C=1000, gamma=1, kernel=rbf .....................................\n",
            "[CV] ...................... C=1000, gamma=1, kernel=rbf, total=   0.6s\n",
            "[CV] C=1000, gamma=1, kernel=rbf .....................................\n",
            "[CV] ...................... C=1000, gamma=1, kernel=rbf, total=   0.7s\n",
            "[CV] C=1000, gamma=1, kernel=rbf .....................................\n",
            "[CV] ...................... C=1000, gamma=1, kernel=rbf, total=   0.7s\n",
            "[CV] C=1000, gamma=1, kernel=rbf .....................................\n",
            "[CV] ...................... C=1000, gamma=1, kernel=rbf, total=   0.8s\n",
            "[CV] C=1000, gamma=1, kernel=rbf .....................................\n",
            "[CV] ...................... C=1000, gamma=1, kernel=rbf, total=   0.6s\n",
            "[CV] C=1000, gamma=0.1, kernel=rbf ...................................\n",
            "[CV] .................... C=1000, gamma=0.1, kernel=rbf, total=   0.2s\n",
            "[CV] C=1000, gamma=0.1, kernel=rbf ...................................\n",
            "[CV] .................... C=1000, gamma=0.1, kernel=rbf, total=   0.2s\n",
            "[CV] C=1000, gamma=0.1, kernel=rbf ...................................\n",
            "[CV] .................... C=1000, gamma=0.1, kernel=rbf, total=   0.2s\n",
            "[CV] C=1000, gamma=0.1, kernel=rbf ...................................\n",
            "[CV] .................... C=1000, gamma=0.1, kernel=rbf, total=   0.2s\n",
            "[CV] C=1000, gamma=0.1, kernel=rbf ...................................\n",
            "[CV] .................... C=1000, gamma=0.1, kernel=rbf, total=   0.2s\n",
            "[CV] C=1000, gamma=0.01, kernel=rbf ..................................\n",
            "[CV] ................... C=1000, gamma=0.01, kernel=rbf, total=   0.1s\n",
            "[CV] C=1000, gamma=0.01, kernel=rbf ..................................\n",
            "[CV] ................... C=1000, gamma=0.01, kernel=rbf, total=   0.1s\n",
            "[CV] C=1000, gamma=0.01, kernel=rbf ..................................\n",
            "[CV] ................... C=1000, gamma=0.01, kernel=rbf, total=   0.1s\n",
            "[CV] C=1000, gamma=0.01, kernel=rbf ..................................\n",
            "[CV] ................... C=1000, gamma=0.01, kernel=rbf, total=   0.1s\n",
            "[CV] C=1000, gamma=0.01, kernel=rbf ..................................\n",
            "[CV] ................... C=1000, gamma=0.01, kernel=rbf, total=   0.1s\n",
            "[CV] C=1000, gamma=0.001, kernel=rbf .................................\n",
            "[CV] .................. C=1000, gamma=0.001, kernel=rbf, total=   0.1s\n",
            "[CV] C=1000, gamma=0.001, kernel=rbf .................................\n",
            "[CV] .................. C=1000, gamma=0.001, kernel=rbf, total=   0.1s\n",
            "[CV] C=1000, gamma=0.001, kernel=rbf .................................\n",
            "[CV] .................. C=1000, gamma=0.001, kernel=rbf, total=   0.1s\n",
            "[CV] C=1000, gamma=0.001, kernel=rbf .................................\n",
            "[CV] .................. C=1000, gamma=0.001, kernel=rbf, total=   0.1s\n",
            "[CV] C=1000, gamma=0.001, kernel=rbf .................................\n",
            "[CV] .................. C=1000, gamma=0.001, kernel=rbf, total=   0.1s\n",
            "[CV] C=1000, gamma=0.0001, kernel=rbf ................................\n",
            "[CV] ................. C=1000, gamma=0.0001, kernel=rbf, total=   0.1s\n",
            "[CV] C=1000, gamma=0.0001, kernel=rbf ................................\n",
            "[CV] ................. C=1000, gamma=0.0001, kernel=rbf, total=   0.1s\n",
            "[CV] C=1000, gamma=0.0001, kernel=rbf ................................\n",
            "[CV] ................. C=1000, gamma=0.0001, kernel=rbf, total=   0.1s\n",
            "[CV] C=1000, gamma=0.0001, kernel=rbf ................................\n",
            "[CV] ................. C=1000, gamma=0.0001, kernel=rbf, total=   0.1s\n",
            "[CV] C=1000, gamma=0.0001, kernel=rbf ................................\n",
            "[CV] ................. C=1000, gamma=0.0001, kernel=rbf, total=   0.1s\n",
            "{'C': 10, 'gamma': 'scale', 'kernel': 'rbf'}\n"
          ],
          "name": "stdout"
        },
        {
          "output_type": "stream",
          "text": [
            "[Parallel(n_jobs=1)]: Done 120 out of 120 | elapsed:   13.0s finished\n"
          ],
          "name": "stderr"
        }
      ]
    },
    {
      "cell_type": "code",
      "metadata": {
        "colab": {
          "base_uri": "https://localhost:8080/"
        },
        "id": "_KECqjQhzmY7",
        "outputId": "3528dcb4-3156-4b84-a5ca-6497c12b190e"
      },
      "source": [
        "optimized_svc=SVC(C=10, gamma='scale')\n",
        "optimized_svc.fit(PCA_train_scaled, y_train)"
      ],
      "execution_count": 92,
      "outputs": [
        {
          "output_type": "execute_result",
          "data": {
            "text/plain": [
              "SVC(C=10, break_ties=False, cache_size=200, class_weight=None, coef0=0.0,\n",
              "    decision_function_shape='ovr', degree=3, gamma='scale', kernel='rbf',\n",
              "    max_iter=-1, probability=False, random_state=None, shrinking=True,\n",
              "    tol=0.001, verbose=False)"
            ]
          },
          "metadata": {
            "tags": []
          },
          "execution_count": 92
        }
      ]
    },
    {
      "cell_type": "code",
      "metadata": {
        "colab": {
          "base_uri": "https://localhost:8080/",
          "height": 340
        },
        "id": "hi1KsV6R3CKK",
        "outputId": "1ccd48f6-c419-4a3a-b420-f79251576673"
      },
      "source": [
        "\n",
        "X_test_PCA=pca.transform(X_train_scaled)\n",
        "\n",
        "test_pc1_coor = X_test_PCA[:, 0]\n",
        "test_pc2_coor = X_test_PCA[:, 1]\n",
        "\n",
        "x_min = test_pc1_coor.min()-1\n",
        "x_max = test_pc1_coor.max()+1\n",
        "\n",
        "y_min = test_pc2_coor.min()-1\n",
        "y_max = test_pc2_coor.max()+1\n",
        "\n",
        "xx, yy = mesh\n",
        "\n"
      ],
      "execution_count": 93,
      "outputs": [
        {
          "output_type": "error",
          "ename": "ValueError",
          "evalue": "ignored",
          "traceback": [
            "\u001b[0;31m---------------------------------------------------------------------------\u001b[0m",
            "\u001b[0;31mValueError\u001b[0m                                Traceback (most recent call last)",
            "\u001b[0;32m<ipython-input-93-63bf13876958>\u001b[0m in \u001b[0;36m<module>\u001b[0;34m()\u001b[0m\n\u001b[1;32m      4\u001b[0m     \u001b[0my_test\u001b[0m\u001b[0;34m,\u001b[0m\u001b[0;34m\u001b[0m\u001b[0;34m\u001b[0m\u001b[0m\n\u001b[1;32m      5\u001b[0m     \u001b[0mdisplay_labels\u001b[0m \u001b[0;34m=\u001b[0m \u001b[0;34m[\u001b[0m\u001b[0;34m'Did Not DEFAULT'\u001b[0m\u001b[0;34m,\u001b[0m \u001b[0;34m'DEFAULTED'\u001b[0m\u001b[0;34m]\u001b[0m\u001b[0;34m,\u001b[0m\u001b[0;34m\u001b[0m\u001b[0;34m\u001b[0m\u001b[0m\n\u001b[0;32m----> 6\u001b[0;31m     values_format = 'd')\n\u001b[0m",
            "\u001b[0;32m/usr/local/lib/python3.7/dist-packages/sklearn/metrics/_plot/confusion_matrix.py\u001b[0m in \u001b[0;36mplot_confusion_matrix\u001b[0;34m(estimator, X, y_true, labels, sample_weight, normalize, display_labels, include_values, xticks_rotation, values_format, cmap, ax)\u001b[0m\n\u001b[1;32m    183\u001b[0m         \u001b[0;32mraise\u001b[0m \u001b[0mValueError\u001b[0m\u001b[0;34m(\u001b[0m\u001b[0;34m\"plot_confusion_matrix only supports classifiers\"\u001b[0m\u001b[0;34m)\u001b[0m\u001b[0;34m\u001b[0m\u001b[0;34m\u001b[0m\u001b[0m\n\u001b[1;32m    184\u001b[0m \u001b[0;34m\u001b[0m\u001b[0m\n\u001b[0;32m--> 185\u001b[0;31m     \u001b[0my_pred\u001b[0m \u001b[0;34m=\u001b[0m \u001b[0mestimator\u001b[0m\u001b[0;34m.\u001b[0m\u001b[0mpredict\u001b[0m\u001b[0;34m(\u001b[0m\u001b[0mX\u001b[0m\u001b[0;34m)\u001b[0m\u001b[0;34m\u001b[0m\u001b[0;34m\u001b[0m\u001b[0m\n\u001b[0m\u001b[1;32m    186\u001b[0m     cm = confusion_matrix(y_true, y_pred, sample_weight=sample_weight,\n\u001b[1;32m    187\u001b[0m                           labels=labels, normalize=normalize)\n",
            "\u001b[0;32m/usr/local/lib/python3.7/dist-packages/sklearn/svm/_base.py\u001b[0m in \u001b[0;36mpredict\u001b[0;34m(self, X)\u001b[0m\n\u001b[1;32m    592\u001b[0m             \u001b[0my\u001b[0m \u001b[0;34m=\u001b[0m \u001b[0mnp\u001b[0m\u001b[0;34m.\u001b[0m\u001b[0margmax\u001b[0m\u001b[0;34m(\u001b[0m\u001b[0mself\u001b[0m\u001b[0;34m.\u001b[0m\u001b[0mdecision_function\u001b[0m\u001b[0;34m(\u001b[0m\u001b[0mX\u001b[0m\u001b[0;34m)\u001b[0m\u001b[0;34m,\u001b[0m \u001b[0maxis\u001b[0m\u001b[0;34m=\u001b[0m\u001b[0;36m1\u001b[0m\u001b[0;34m)\u001b[0m\u001b[0;34m\u001b[0m\u001b[0;34m\u001b[0m\u001b[0m\n\u001b[1;32m    593\u001b[0m         \u001b[0;32melse\u001b[0m\u001b[0;34m:\u001b[0m\u001b[0;34m\u001b[0m\u001b[0;34m\u001b[0m\u001b[0m\n\u001b[0;32m--> 594\u001b[0;31m             \u001b[0my\u001b[0m \u001b[0;34m=\u001b[0m \u001b[0msuper\u001b[0m\u001b[0;34m(\u001b[0m\u001b[0;34m)\u001b[0m\u001b[0;34m.\u001b[0m\u001b[0mpredict\u001b[0m\u001b[0;34m(\u001b[0m\u001b[0mX\u001b[0m\u001b[0;34m)\u001b[0m\u001b[0;34m\u001b[0m\u001b[0;34m\u001b[0m\u001b[0m\n\u001b[0m\u001b[1;32m    595\u001b[0m         \u001b[0;32mreturn\u001b[0m \u001b[0mself\u001b[0m\u001b[0;34m.\u001b[0m\u001b[0mclasses_\u001b[0m\u001b[0;34m.\u001b[0m\u001b[0mtake\u001b[0m\u001b[0;34m(\u001b[0m\u001b[0mnp\u001b[0m\u001b[0;34m.\u001b[0m\u001b[0masarray\u001b[0m\u001b[0;34m(\u001b[0m\u001b[0my\u001b[0m\u001b[0;34m,\u001b[0m \u001b[0mdtype\u001b[0m\u001b[0;34m=\u001b[0m\u001b[0mnp\u001b[0m\u001b[0;34m.\u001b[0m\u001b[0mintp\u001b[0m\u001b[0;34m)\u001b[0m\u001b[0;34m)\u001b[0m\u001b[0;34m\u001b[0m\u001b[0;34m\u001b[0m\u001b[0m\n\u001b[1;32m    596\u001b[0m \u001b[0;34m\u001b[0m\u001b[0m\n",
            "\u001b[0;32m/usr/local/lib/python3.7/dist-packages/sklearn/svm/_base.py\u001b[0m in \u001b[0;36mpredict\u001b[0;34m(self, X)\u001b[0m\n\u001b[1;32m    313\u001b[0m         \u001b[0my_pred\u001b[0m \u001b[0;34m:\u001b[0m \u001b[0marray\u001b[0m\u001b[0;34m,\u001b[0m \u001b[0mshape\u001b[0m \u001b[0;34m(\u001b[0m\u001b[0mn_samples\u001b[0m\u001b[0;34m,\u001b[0m\u001b[0;34m)\u001b[0m\u001b[0;34m\u001b[0m\u001b[0;34m\u001b[0m\u001b[0m\n\u001b[1;32m    314\u001b[0m         \"\"\"\n\u001b[0;32m--> 315\u001b[0;31m         \u001b[0mX\u001b[0m \u001b[0;34m=\u001b[0m \u001b[0mself\u001b[0m\u001b[0;34m.\u001b[0m\u001b[0m_validate_for_predict\u001b[0m\u001b[0;34m(\u001b[0m\u001b[0mX\u001b[0m\u001b[0;34m)\u001b[0m\u001b[0;34m\u001b[0m\u001b[0;34m\u001b[0m\u001b[0m\n\u001b[0m\u001b[1;32m    316\u001b[0m         \u001b[0mpredict\u001b[0m \u001b[0;34m=\u001b[0m \u001b[0mself\u001b[0m\u001b[0;34m.\u001b[0m\u001b[0m_sparse_predict\u001b[0m \u001b[0;32mif\u001b[0m \u001b[0mself\u001b[0m\u001b[0;34m.\u001b[0m\u001b[0m_sparse\u001b[0m \u001b[0;32melse\u001b[0m \u001b[0mself\u001b[0m\u001b[0;34m.\u001b[0m\u001b[0m_dense_predict\u001b[0m\u001b[0;34m\u001b[0m\u001b[0;34m\u001b[0m\u001b[0m\n\u001b[1;32m    317\u001b[0m         \u001b[0;32mreturn\u001b[0m \u001b[0mpredict\u001b[0m\u001b[0;34m(\u001b[0m\u001b[0mX\u001b[0m\u001b[0;34m)\u001b[0m\u001b[0;34m\u001b[0m\u001b[0;34m\u001b[0m\u001b[0m\n",
            "\u001b[0;32m/usr/local/lib/python3.7/dist-packages/sklearn/svm/_base.py\u001b[0m in \u001b[0;36m_validate_for_predict\u001b[0;34m(self, X)\u001b[0m\n\u001b[1;32m    465\u001b[0m             raise ValueError(\"X.shape[1] = %d should be equal to %d, \"\n\u001b[1;32m    466\u001b[0m                              \u001b[0;34m\"the number of features at training time\"\u001b[0m \u001b[0;34m%\u001b[0m\u001b[0;34m\u001b[0m\u001b[0;34m\u001b[0m\u001b[0m\n\u001b[0;32m--> 467\u001b[0;31m                              (n_features, self.shape_fit_[1]))\n\u001b[0m\u001b[1;32m    468\u001b[0m         \u001b[0;32mreturn\u001b[0m \u001b[0mX\u001b[0m\u001b[0;34m\u001b[0m\u001b[0;34m\u001b[0m\u001b[0m\n\u001b[1;32m    469\u001b[0m \u001b[0;34m\u001b[0m\u001b[0m\n",
            "\u001b[0;31mValueError\u001b[0m: X.shape[1] = 76 should be equal to 2, the number of features at training time"
          ]
        }
      ]
    },
    {
      "cell_type": "code",
      "metadata": {
        "id": "0O-EuGps4QqC"
      },
      "source": [
        ""
      ],
      "execution_count": null,
      "outputs": []
    }
  ]
}