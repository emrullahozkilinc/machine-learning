{
  "nbformat": 4,
  "nbformat_minor": 0,
  "metadata": {
    "colab": {
      "name": "heart_prediction.ipynb",
      "provenance": [],
      "collapsed_sections": [],
      "authorship_tag": "ABX9TyOy0vEW2KpbeWGJ1l4/yBph",
      "include_colab_link": true
    },
    "kernelspec": {
      "name": "python3",
      "display_name": "Python 3"
    },
    "language_info": {
      "name": "python"
    }
  },
  "cells": [
    {
      "cell_type": "markdown",
      "metadata": {
        "id": "view-in-github",
        "colab_type": "text"
      },
      "source": [
        "<a href=\"https://colab.research.google.com/github/emrullahozkilinc/machine-learning/blob/master/heart_prediction.ipynb\" target=\"_parent\"><img src=\"https://colab.research.google.com/assets/colab-badge.svg\" alt=\"Open In Colab\"/></a>"
      ]
    },
    {
      "cell_type": "markdown",
      "metadata": {
        "id": "Xtan9nOpFsVt"
      },
      "source": [
        "This notebook written for predict chance of having a heart attack. It uses the following to calculate it; age, exercise, number of clogged blood vessel, chest pain type, blood pressure, cholestoral, blood sugar, electrocardiographic results and heart rate. Our target columns is \"target\". \"1\" means big chance of heart attack and \"0\" means little chance of heart attack. Dataset includes 303 samples. This samples although relatively little it is enough for our example. We will use adaboost, gradientboost and xgboost algorithms for create our models."
      ]
    },
    {
      "cell_type": "markdown",
      "metadata": {
        "id": "pEE8_TqTP2NY"
      },
      "source": [
        "# Libraries"
      ]
    },
    {
      "cell_type": "markdown",
      "metadata": {
        "id": "HZtbSEv_P6_J"
      },
      "source": [
        "First 3 row imports basic packages. Seaborn for expert graphs. xgboost, AdaBoostClassifier, GradientBoostingClassifier for create our models. Classifier letter in ada and gradiendt using for our model is a classifier model, not regression. DecisionTreeClassifier for using in xgboost algorithm. train_test_split for seperate our dataset to train and test set. confusion_matrix and plot_confusion_matrix for plot and calculate confusion matrix.\n",
        "\n"
      ]
    },
    {
      "cell_type": "code",
      "metadata": {
        "id": "i-XDlPm-vQqW"
      },
      "source": [
        "import numpy as np\n",
        "import pandas as pd\n",
        "import matplotlib.pyplot as plt\n",
        "import seaborn as sns\n",
        "import xgboost\n",
        "from sklearn.ensemble import AdaBoostClassifier, GradientBoostingClassifier\n",
        "from sklearn.tree import DecisionTreeClassifier\n",
        "from sklearn.model_selection import train_test_split\n",
        "from sklearn.metrics import confusion_matrix\n",
        "from sklearn.metrics import plot_confusion_matrix"
      ],
      "execution_count": 1,
      "outputs": []
    },
    {
      "cell_type": "markdown",
      "metadata": {
        "id": "CL4A2qziTPWQ"
      },
      "source": [
        "# Descriptive stats"
      ]
    },
    {
      "cell_type": "markdown",
      "metadata": {
        "id": "yzlyCdxOS2vK"
      },
      "source": [
        "We import dataset."
      ]
    },
    {
      "cell_type": "code",
      "metadata": {
        "colab": {
          "base_uri": "https://localhost:8080/",
          "height": 204
        },
        "id": "sSQN1pBUwcA3",
        "outputId": "d386421b-abac-4434-ff3b-18e85d7e11a7"
      },
      "source": [
        "url=\"https://raw.githubusercontent.com/emrullahozkilinc/machine-learning/master/dataset/heart.csv\"\n",
        "data = pd.read_csv(url)\n",
        "data.head()"
      ],
      "execution_count": 2,
      "outputs": [
        {
          "output_type": "execute_result",
          "data": {
            "text/html": [
              "<div>\n",
              "<style scoped>\n",
              "    .dataframe tbody tr th:only-of-type {\n",
              "        vertical-align: middle;\n",
              "    }\n",
              "\n",
              "    .dataframe tbody tr th {\n",
              "        vertical-align: top;\n",
              "    }\n",
              "\n",
              "    .dataframe thead th {\n",
              "        text-align: right;\n",
              "    }\n",
              "</style>\n",
              "<table border=\"1\" class=\"dataframe\">\n",
              "  <thead>\n",
              "    <tr style=\"text-align: right;\">\n",
              "      <th></th>\n",
              "      <th>age</th>\n",
              "      <th>sex</th>\n",
              "      <th>cp</th>\n",
              "      <th>trtbps</th>\n",
              "      <th>chol</th>\n",
              "      <th>fbs</th>\n",
              "      <th>restecg</th>\n",
              "      <th>thalachh</th>\n",
              "      <th>exng</th>\n",
              "      <th>oldpeak</th>\n",
              "      <th>slp</th>\n",
              "      <th>caa</th>\n",
              "      <th>thall</th>\n",
              "      <th>output</th>\n",
              "    </tr>\n",
              "  </thead>\n",
              "  <tbody>\n",
              "    <tr>\n",
              "      <th>0</th>\n",
              "      <td>63</td>\n",
              "      <td>1</td>\n",
              "      <td>3</td>\n",
              "      <td>145</td>\n",
              "      <td>233</td>\n",
              "      <td>1</td>\n",
              "      <td>0</td>\n",
              "      <td>150</td>\n",
              "      <td>0</td>\n",
              "      <td>2.3</td>\n",
              "      <td>0</td>\n",
              "      <td>0</td>\n",
              "      <td>1</td>\n",
              "      <td>1</td>\n",
              "    </tr>\n",
              "    <tr>\n",
              "      <th>1</th>\n",
              "      <td>37</td>\n",
              "      <td>1</td>\n",
              "      <td>2</td>\n",
              "      <td>130</td>\n",
              "      <td>250</td>\n",
              "      <td>0</td>\n",
              "      <td>1</td>\n",
              "      <td>187</td>\n",
              "      <td>0</td>\n",
              "      <td>3.5</td>\n",
              "      <td>0</td>\n",
              "      <td>0</td>\n",
              "      <td>2</td>\n",
              "      <td>1</td>\n",
              "    </tr>\n",
              "    <tr>\n",
              "      <th>2</th>\n",
              "      <td>41</td>\n",
              "      <td>0</td>\n",
              "      <td>1</td>\n",
              "      <td>130</td>\n",
              "      <td>204</td>\n",
              "      <td>0</td>\n",
              "      <td>0</td>\n",
              "      <td>172</td>\n",
              "      <td>0</td>\n",
              "      <td>1.4</td>\n",
              "      <td>2</td>\n",
              "      <td>0</td>\n",
              "      <td>2</td>\n",
              "      <td>1</td>\n",
              "    </tr>\n",
              "    <tr>\n",
              "      <th>3</th>\n",
              "      <td>56</td>\n",
              "      <td>1</td>\n",
              "      <td>1</td>\n",
              "      <td>120</td>\n",
              "      <td>236</td>\n",
              "      <td>0</td>\n",
              "      <td>1</td>\n",
              "      <td>178</td>\n",
              "      <td>0</td>\n",
              "      <td>0.8</td>\n",
              "      <td>2</td>\n",
              "      <td>0</td>\n",
              "      <td>2</td>\n",
              "      <td>1</td>\n",
              "    </tr>\n",
              "    <tr>\n",
              "      <th>4</th>\n",
              "      <td>57</td>\n",
              "      <td>0</td>\n",
              "      <td>0</td>\n",
              "      <td>120</td>\n",
              "      <td>354</td>\n",
              "      <td>0</td>\n",
              "      <td>1</td>\n",
              "      <td>163</td>\n",
              "      <td>1</td>\n",
              "      <td>0.6</td>\n",
              "      <td>2</td>\n",
              "      <td>0</td>\n",
              "      <td>2</td>\n",
              "      <td>1</td>\n",
              "    </tr>\n",
              "  </tbody>\n",
              "</table>\n",
              "</div>"
            ],
            "text/plain": [
              "   age  sex  cp  trtbps  chol  fbs  ...  exng  oldpeak  slp  caa  thall  output\n",
              "0   63    1   3     145   233    1  ...     0      2.3    0    0      1       1\n",
              "1   37    1   2     130   250    0  ...     0      3.5    0    0      2       1\n",
              "2   41    0   1     130   204    0  ...     0      1.4    2    0      2       1\n",
              "3   56    1   1     120   236    0  ...     0      0.8    2    0      2       1\n",
              "4   57    0   0     120   354    0  ...     1      0.6    2    0      2       1\n",
              "\n",
              "[5 rows x 14 columns]"
            ]
          },
          "metadata": {},
          "execution_count": 2
        }
      ]
    },
    {
      "cell_type": "markdown",
      "metadata": {
        "id": "G4HeNY1kTUDB"
      },
      "source": [
        "Distribution plot for \"Age\" column. We can see in following graph age of our samples generally between 40-65."
      ]
    },
    {
      "cell_type": "code",
      "metadata": {
        "colab": {
          "base_uri": "https://localhost:8080/",
          "height": 296
        },
        "id": "QP-zZW4qwkoK",
        "outputId": "cb738501-30ac-479c-db02-a9628d76cad7"
      },
      "source": [
        "sns.histplot(data=data, x='age', bins=15)"
      ],
      "execution_count": 7,
      "outputs": [
        {
          "output_type": "execute_result",
          "data": {
            "text/plain": [
              "<matplotlib.axes._subplots.AxesSubplot at 0x7f19cc52be90>"
            ]
          },
          "metadata": {},
          "execution_count": 7
        },
        {
          "output_type": "display_data",
          "data": {
            "image/png": "[encoded data removed]",
            "text/plain": [
              "<Figure size 432x288 with 1 Axes>"
            ]
          },
          "metadata": {
            "needs_background": "light"
          }
        }
      ]
    },
    {
      "cell_type": "code",
      "metadata": {
        "colab": {
          "base_uri": "https://localhost:8080/",
          "height": 350
        },
        "id": "C-aV9JI9xEDR",
        "outputId": "77cc892c-37bf-44e8-fcfd-f5784a2b4ddb"
      },
      "source": [
        "total_male = len(data.loc[data['sex']==1])\n",
        "total_female = len(data.loc[data['sex']==0])\n",
        "\n",
        "labels = ['Male','Female']\n",
        "\n",
        "colors = sns.color_palette('pastel')[2:4]\n",
        "\n",
        "plt.pie([total_male, total_female], labels=labels, autopct='%1.1f%%', shadow=True, colors=colors )\n"
      ],
      "execution_count": 9,
      "outputs": [
        {
          "output_type": "execute_result",
          "data": {
            "text/plain": [
              "([<matplotlib.patches.Wedge at 0x7f19cc3beb90>,\n",
              "  <matplotlib.patches.Wedge at 0x7f19cc3ab390>],\n",
              " [Text(-0.5986245291714798, 0.9228481310997082, 'Male'),\n",
              "  Text(0.5986244427681994, -0.9228481871469777, 'Female')],\n",
              " [Text(-0.32652247045717075, 0.503371707872568, '68.3%'),\n",
              "  Text(0.3265224233281087, -0.5033717384438059, '31.7%')])"
            ]
          },
          "metadata": {},
          "execution_count": 9
        },
        {
          "output_type": "display_data",
          "data": {
            "image/png": "[encoded data removed]",
            "text/plain": [
              "<Figure size 432x288 with 1 Axes>"
            ]
          },
          "metadata": {}
        }
      ]
    },
    {
      "cell_type": "code",
      "metadata": {
        "colab": {
          "base_uri": "https://localhost:8080/",
          "height": 282
        },
        "id": "LOBVKvIZxQS5",
        "outputId": "01b2c33f-a6f3-4d8a-c66d-c826b3088849"
      },
      "source": [
        "correlations = np.corrcoef(data.T)\n",
        "corr_target_all = correlations[-1].reshape(14,1)\n",
        "corr_target = corr_target_all[:13]\n",
        "sns.heatmap(corr_target, yticklabels=data.columns[:13],)"
      ],
      "execution_count": null,
      "outputs": [
        {
          "output_type": "execute_result",
          "data": {
            "text/plain": [
              "<matplotlib.axes._subplots.AxesSubplot at 0x7f734d4ba350>"
            ]
          },
          "metadata": {
            "tags": []
          },
          "execution_count": 6
        },
        {
          "output_type": "display_data",
          "data": {
            "image/png": "[encoded data removed]",
            "text/plain": [
              "<Figure size 432x288 with 2 Axes>"
            ]
          },
          "metadata": {
            "tags": [],
            "needs_background": "light"
          }
        }
      ]
    },
    {
      "cell_type": "code",
      "metadata": {
        "id": "JFSBQ4sDxXXS",
        "colab": {
          "base_uri": "https://localhost:8080/",
          "height": 452
        },
        "outputId": "5ce48e02-2cd2-43f9-9f8b-0178c6460522"
      },
      "source": [
        "corr_target_edited = pd.DataFrame(corr_target, index=data.columns[:13], columns=['Absoluted Correlations'])\n",
        "corr_target_edited = np.abs(corr_target_edited)\n",
        "corr_target_edited.sort_values(by=['Absoluted Correlations'], ascending=False)"
      ],
      "execution_count": null,
      "outputs": [
        {
          "output_type": "execute_result",
          "data": {
            "text/html": [
              "<div>\n",
              "<style scoped>\n",
              "    .dataframe tbody tr th:only-of-type {\n",
              "        vertical-align: middle;\n",
              "    }\n",
              "\n",
              "    .dataframe tbody tr th {\n",
              "        vertical-align: top;\n",
              "    }\n",
              "\n",
              "    .dataframe thead th {\n",
              "        text-align: right;\n",
              "    }\n",
              "</style>\n",
              "<table border=\"1\" class=\"dataframe\">\n",
              "  <thead>\n",
              "    <tr style=\"text-align: right;\">\n",
              "      <th></th>\n",
              "      <th>Absoluted Correlations</th>\n",
              "    </tr>\n",
              "  </thead>\n",
              "  <tbody>\n",
              "    <tr>\n",
              "      <th>exng</th>\n",
              "      <td>0.436757</td>\n",
              "    </tr>\n",
              "    <tr>\n",
              "      <th>cp</th>\n",
              "      <td>0.433798</td>\n",
              "    </tr>\n",
              "    <tr>\n",
              "      <th>oldpeak</th>\n",
              "      <td>0.430696</td>\n",
              "    </tr>\n",
              "    <tr>\n",
              "      <th>thalachh</th>\n",
              "      <td>0.421741</td>\n",
              "    </tr>\n",
              "    <tr>\n",
              "      <th>caa</th>\n",
              "      <td>0.391724</td>\n",
              "    </tr>\n",
              "    <tr>\n",
              "      <th>slp</th>\n",
              "      <td>0.345877</td>\n",
              "    </tr>\n",
              "    <tr>\n",
              "      <th>thall</th>\n",
              "      <td>0.344029</td>\n",
              "    </tr>\n",
              "    <tr>\n",
              "      <th>sex</th>\n",
              "      <td>0.280937</td>\n",
              "    </tr>\n",
              "    <tr>\n",
              "      <th>age</th>\n",
              "      <td>0.225439</td>\n",
              "    </tr>\n",
              "    <tr>\n",
              "      <th>trtbps</th>\n",
              "      <td>0.144931</td>\n",
              "    </tr>\n",
              "    <tr>\n",
              "      <th>restecg</th>\n",
              "      <td>0.137230</td>\n",
              "    </tr>\n",
              "    <tr>\n",
              "      <th>chol</th>\n",
              "      <td>0.085239</td>\n",
              "    </tr>\n",
              "    <tr>\n",
              "      <th>fbs</th>\n",
              "      <td>0.028046</td>\n",
              "    </tr>\n",
              "  </tbody>\n",
              "</table>\n",
              "</div>"
            ],
            "text/plain": [
              "          Absoluted Correlations\n",
              "exng                    0.436757\n",
              "cp                      0.433798\n",
              "oldpeak                 0.430696\n",
              "thalachh                0.421741\n",
              "caa                     0.391724\n",
              "slp                     0.345877\n",
              "thall                   0.344029\n",
              "sex                     0.280937\n",
              "age                     0.225439\n",
              "trtbps                  0.144931\n",
              "restecg                 0.137230\n",
              "chol                    0.085239\n",
              "fbs                     0.028046"
            ]
          },
          "metadata": {
            "tags": []
          },
          "execution_count": 7
        }
      ]
    },
    {
      "cell_type": "code",
      "metadata": {
        "id": "esZrnwLY8H7Q"
      },
      "source": [
        "X = data.iloc[:,:13]\n",
        "y = data['output']"
      ],
      "execution_count": null,
      "outputs": []
    },
    {
      "cell_type": "code",
      "metadata": {
        "id": "Z7S-YkL6j5Pt"
      },
      "source": [
        "X_train, X_test, y_train, y_test = train_test_split(X, y, test_size=0.25)"
      ],
      "execution_count": null,
      "outputs": []
    },
    {
      "cell_type": "code",
      "metadata": {
        "id": "C7akPi0uBDpr"
      },
      "source": [
        "def ada_classifier(depth, n_estimators):\n",
        "  classifier = AdaBoostClassifier(\n",
        "      DecisionTreeClassifier(max_depth=depth),\n",
        "      n_estimators=n_estimators)\n",
        "\n",
        "  return classifier"
      ],
      "execution_count": null,
      "outputs": []
    },
    {
      "cell_type": "code",
      "metadata": {
        "id": "V9gD5DPxaxtK"
      },
      "source": [
        "ada = ada_classifier(1,50).fit(X_train, y_train)\n",
        "predicted_ada = ada.predict(X_test)"
      ],
      "execution_count": null,
      "outputs": []
    },
    {
      "cell_type": "code",
      "metadata": {
        "id": "R9dJV7n19ljG"
      },
      "source": [
        "conf_mat = {}"
      ],
      "execution_count": null,
      "outputs": []
    },
    {
      "cell_type": "code",
      "metadata": {
        "id": "MSC-bAxcbctL"
      },
      "source": [
        "ada_conf = confusion_matrix(y_test, predicted_ada)\n",
        "conf_mat['ada'] = ada_conf"
      ],
      "execution_count": null,
      "outputs": []
    },
    {
      "cell_type": "code",
      "metadata": {
        "colab": {
          "base_uri": "https://localhost:8080/",
          "height": 296
        },
        "id": "pYul0ByYgPt_",
        "outputId": "87a8e924-b1cf-416f-eb39-b8ec6927c43b"
      },
      "source": [
        "plot_confusion_matrix(ada, X_test, y_test, display_labels=['Heart Attack','Nothing'])"
      ],
      "execution_count": null,
      "outputs": [
        {
          "output_type": "execute_result",
          "data": {
            "text/plain": [
              "<sklearn.metrics._plot.confusion_matrix.ConfusionMatrixDisplay at 0x7f734dc28490>"
            ]
          },
          "metadata": {
            "tags": []
          },
          "execution_count": 13
        },
        {
          "output_type": "display_data",
          "data": {
            "image/png": "[encoded data removed]",
            "text/plain": [
              "<Figure size 432x288 with 2 Axes>"
            ]
          },
          "metadata": {
            "tags": [],
            "needs_background": "light"
          }
        }
      ]
    },
    {
      "cell_type": "code",
      "metadata": {
        "id": "9ORGYNKVg0dX"
      },
      "source": [
        "gradient_classifier = GradientBoostingClassifier(loss='exponential')"
      ],
      "execution_count": null,
      "outputs": []
    },
    {
      "cell_type": "code",
      "metadata": {
        "id": "pMNuiblF__wu"
      },
      "source": [
        "gradient = gradient_classifier.fit(X_train, y_train)\n",
        "predicted_gradient = gradient.predict(X_test)"
      ],
      "execution_count": null,
      "outputs": []
    },
    {
      "cell_type": "code",
      "metadata": {
        "id": "P9_jtlNU9O55"
      },
      "source": [
        "gradient_conf = confusion_matrix(y_test, predicted_gradient)\n",
        "conf_mat['gradient'] = gradient_conf"
      ],
      "execution_count": null,
      "outputs": []
    },
    {
      "cell_type": "code",
      "metadata": {
        "colab": {
          "base_uri": "https://localhost:8080/",
          "height": 296
        },
        "id": "XA4_gb-4A8Gp",
        "outputId": "3fa69fe7-5dfd-475d-9ec4-7a97df19acd9"
      },
      "source": [
        "plot_confusion_matrix(gradient, X_test, y_test, display_labels=['Heart Attack','Nothing'])"
      ],
      "execution_count": null,
      "outputs": [
        {
          "output_type": "execute_result",
          "data": {
            "text/plain": [
              "<sklearn.metrics._plot.confusion_matrix.ConfusionMatrixDisplay at 0x7f7344af2a90>"
            ]
          },
          "metadata": {
            "tags": []
          },
          "execution_count": 16
        },
        {
          "output_type": "display_data",
          "data": {
            "image/png": "[encoded data removed]",
            "text/plain": [
              "<Figure size 432x288 with 2 Axes>"
            ]
          },
          "metadata": {
            "tags": [],
            "needs_background": "light"
          }
        }
      ]
    },
    {
      "cell_type": "code",
      "metadata": {
        "id": "tijownG15Vxy"
      },
      "source": [
        "xgb = xgboost.XGBClassifier()"
      ],
      "execution_count": null,
      "outputs": []
    },
    {
      "cell_type": "code",
      "metadata": {
        "id": "cp0WDBxD6qoz"
      },
      "source": [
        "xgb.fit(X_train, y_train)\n",
        "predicted_xgboost = xgb.predict(X_test)"
      ],
      "execution_count": null,
      "outputs": []
    },
    {
      "cell_type": "code",
      "metadata": {
        "id": "URnjcYp29dCL"
      },
      "source": [
        "xgb_conf = confusion_matrix(y_test, predicted_xgboost)\n",
        "conf_mat['xgb'] = xgb_conf"
      ],
      "execution_count": null,
      "outputs": []
    },
    {
      "cell_type": "code",
      "metadata": {
        "colab": {
          "base_uri": "https://localhost:8080/",
          "height": 296
        },
        "id": "xypxcP8E8dI-",
        "outputId": "d911cdda-cc46-4f0f-e96f-8a3a6ce0e4ac"
      },
      "source": [
        "plot_confusion_matrix(xgb, X_test, y_test, display_labels=['Heart Attack','Nothing'])"
      ],
      "execution_count": null,
      "outputs": [
        {
          "output_type": "execute_result",
          "data": {
            "text/plain": [
              "<sklearn.metrics._plot.confusion_matrix.ConfusionMatrixDisplay at 0x7f7344624fd0>"
            ]
          },
          "metadata": {
            "tags": []
          },
          "execution_count": 30
        },
        {
          "output_type": "display_data",
          "data": {
            "image/png": "[encoded data removed]",
            "text/plain": [
              "<Figure size 432x288 with 2 Axes>"
            ]
          },
          "metadata": {
            "tags": [],
            "needs_background": "light"
          }
        }
      ]
    },
    {
      "cell_type": "code",
      "metadata": {
        "id": "7r2p5djLBEY0"
      },
      "source": [
        "def print_metrics(conf_matrix):\n",
        "  TP = conf_matrix[0,0]\n",
        "  FN = conf_matrix[0,1]\n",
        "  FP = conf_matrix[1,0]\n",
        "  TN = conf_matrix[1,1]\n",
        "  print('----------------------------')\n",
        "  print('Accuracy:',    round(((TP+TN)/(TP+FN+FP+TN)),3))\n",
        "  print('Sensitivity:', round(((TP)/(TP+FN)),3))\n",
        "  print('Specificity:', round(((TN)/(FP+TN)),3))\n",
        "  print('Precision:',   round(((TP)/(TP+FP)),3))\n",
        "  print('Negative Predictive Value:',    round(((TN)/(FN+TN)),3))\n",
        "  print('----------------------------\\n')"
      ],
      "execution_count": null,
      "outputs": []
    },
    {
      "cell_type": "code",
      "metadata": {
        "colab": {
          "base_uri": "https://localhost:8080/"
        },
        "id": "eZL7dXeI87_6",
        "outputId": "69c2ce46-860d-4fb0-aef0-3e5920f44712"
      },
      "source": [
        "for x,y in conf_mat.items():\n",
        "  print(x, ' results:')\n",
        "  print_metrics(y)"
      ],
      "execution_count": null,
      "outputs": [
        {
          "output_type": "stream",
          "text": [
            "ada  results:\n",
            "----------------------------\n",
            "Accuracy: 0.868\n",
            "Sensitivity: 0.862\n",
            "Specificity: 0.872\n",
            "Precision: 0.806\n",
            "Negative Predictive Value: 0.911\n",
            "----------------------------\n",
            "\n",
            "gradient  results:\n",
            "----------------------------\n",
            "Accuracy: 0.855\n",
            "Sensitivity: 0.759\n",
            "Specificity: 0.915\n",
            "Precision: 0.846\n",
            "Negative Predictive Value: 0.86\n",
            "----------------------------\n",
            "\n",
            "xgb  results:\n",
            "----------------------------\n",
            "Accuracy: 0.868\n",
            "Sensitivity: 0.759\n",
            "Specificity: 0.936\n",
            "Precision: 0.88\n",
            "Negative Predictive Value: 0.863\n",
            "----------------------------\n",
            "\n"
          ],
          "name": "stdout"
        }
      ]
    },
    {
      "cell_type": "code",
      "metadata": {
        "id": "aw_jowIt-2ba"
      },
      "source": [
        ""
      ],
      "execution_count": null,
      "outputs": []
    }
  ]
}